{
 "cells": [
  {
   "cell_type": "markdown",
   "id": "c4d86645",
   "metadata": {},
   "source": [
    "# EDA"
   ]
  },
  {
   "cell_type": "markdown",
   "id": "699f2d19",
   "metadata": {},
   "source": [
    "DESCRIPTION: The data represents the P2P loans offered to individuals using a third party platform that bring them together"
   ]
  },
  {
   "cell_type": "markdown",
   "id": "86146d8b",
   "metadata": {},
   "source": [
    "Goal of this EDA exercise: The end of this analysis is to come-up with exploratory story(as-is) and a data quality understanding"
   ]
  },
  {
   "cell_type": "code",
   "execution_count": 288,
   "id": "76f77fb3",
   "metadata": {},
   "outputs": [],
   "source": [
    "#import reqd libraries\n",
    "import pandas as pd #mathematical operations\n",
    "import numpy as np #list comprehension\n",
    "import matplotlib.pyplot as plt\n",
    "import seaborn as sb #more fast than plt in case of dataframe visualization\n",
    "#modular coding: organised/ step by step\n",
    "#seaborn is more modular\n",
    "#more beautiful graphics\n",
    "#plt cannot access some graphs through API but seaborn can\n",
    "#which means seaborn can access packages across the live web but plt can't"
   ]
  },
  {
   "cell_type": "code",
   "execution_count": 289,
   "id": "5c33aea2",
   "metadata": {},
   "outputs": [],
   "source": [
    "import os\n",
    "os.getcwd()\n",
    "os.chdir(\"/Users/macmojave/Desktop/IPBA/python1\")"
   ]
  },
  {
   "cell_type": "code",
   "execution_count": 290,
   "id": "bff43102",
   "metadata": {},
   "outputs": [],
   "source": [
    "import dqr\n",
    "%run dqr.py"
   ]
  },
  {
   "cell_type": "code",
   "execution_count": 291,
   "id": "232b2594",
   "metadata": {},
   "outputs": [],
   "source": [
    "#import datasets\n",
    "\n",
    "#Transactional\n",
    "loan= pd.read_csv('loan.csv')\n",
    "#Demographics\n",
    "demo=pd.read_csv('demo.csv')"
   ]
  },
  {
   "cell_type": "code",
   "execution_count": 292,
   "id": "59b63a11",
   "metadata": {},
   "outputs": [
    {
     "data": {
      "text/html": [
       "<div>\n",
       "<style scoped>\n",
       "    .dataframe tbody tr th:only-of-type {\n",
       "        vertical-align: middle;\n",
       "    }\n",
       "\n",
       "    .dataframe tbody tr th {\n",
       "        vertical-align: top;\n",
       "    }\n",
       "\n",
       "    .dataframe thead th {\n",
       "        text-align: right;\n",
       "    }\n",
       "</style>\n",
       "<table border=\"1\" class=\"dataframe\">\n",
       "  <thead>\n",
       "    <tr style=\"text-align: right;\">\n",
       "      <th></th>\n",
       "      <th>id</th>\n",
       "      <th>member_id</th>\n",
       "      <th>loan_amnt</th>\n",
       "      <th>funded_amnt</th>\n",
       "      <th>funded_amnt_inv</th>\n",
       "      <th>int_rate</th>\n",
       "      <th>installment</th>\n",
       "      <th>grade</th>\n",
       "      <th>sub_grade</th>\n",
       "      <th>is_inc_v</th>\n",
       "      <th>accept_d</th>\n",
       "      <th>issue_d</th>\n",
       "      <th>loan_status</th>\n",
       "      <th>term</th>\n",
       "    </tr>\n",
       "  </thead>\n",
       "  <tbody>\n",
       "    <tr>\n",
       "      <th>0</th>\n",
       "      <td>54734</td>\n",
       "      <td>80364</td>\n",
       "      <td>25000</td>\n",
       "      <td>25000</td>\n",
       "      <td>19419.94</td>\n",
       "      <td>11.89%</td>\n",
       "      <td>829.10</td>\n",
       "      <td>B</td>\n",
       "      <td>B4</td>\n",
       "      <td>True</td>\n",
       "      <td>26-07-2009</td>\n",
       "      <td>05-08-2009</td>\n",
       "      <td>Fully Paid</td>\n",
       "      <td>36months</td>\n",
       "    </tr>\n",
       "    <tr>\n",
       "      <th>1</th>\n",
       "      <td>55742</td>\n",
       "      <td>114426</td>\n",
       "      <td>7000</td>\n",
       "      <td>7000</td>\n",
       "      <td>6549.40</td>\n",
       "      <td>10.71%</td>\n",
       "      <td>228.22</td>\n",
       "      <td>B</td>\n",
       "      <td>B5</td>\n",
       "      <td>False</td>\n",
       "      <td>12-05-2008</td>\n",
       "      <td>27-05-2008</td>\n",
       "      <td>Fully Paid</td>\n",
       "      <td>36months</td>\n",
       "    </tr>\n",
       "    <tr>\n",
       "      <th>2</th>\n",
       "      <td>57245</td>\n",
       "      <td>138150</td>\n",
       "      <td>1200</td>\n",
       "      <td>1200</td>\n",
       "      <td>1200.00</td>\n",
       "      <td>13.11%</td>\n",
       "      <td>40.50</td>\n",
       "      <td>C</td>\n",
       "      <td>C2</td>\n",
       "      <td>False</td>\n",
       "      <td>11-03-2010</td>\n",
       "      <td>22-03-2010</td>\n",
       "      <td>Fully Paid</td>\n",
       "      <td>36months</td>\n",
       "    </tr>\n",
       "    <tr>\n",
       "      <th>3</th>\n",
       "      <td>57416</td>\n",
       "      <td>139635</td>\n",
       "      <td>10800</td>\n",
       "      <td>10800</td>\n",
       "      <td>10637.65</td>\n",
       "      <td>13.57%</td>\n",
       "      <td>366.86</td>\n",
       "      <td>C</td>\n",
       "      <td>C3</td>\n",
       "      <td>False</td>\n",
       "      <td>04-11-2009</td>\n",
       "      <td>12-11-2009</td>\n",
       "      <td>Fully Paid</td>\n",
       "      <td>36months</td>\n",
       "    </tr>\n",
       "    <tr>\n",
       "      <th>4</th>\n",
       "      <td>58524</td>\n",
       "      <td>149512</td>\n",
       "      <td>7200</td>\n",
       "      <td>7200</td>\n",
       "      <td>1800.00</td>\n",
       "      <td>19.05%</td>\n",
       "      <td>264.11</td>\n",
       "      <td>D</td>\n",
       "      <td>D4</td>\n",
       "      <td>False</td>\n",
       "      <td>14-08-2012</td>\n",
       "      <td>21-08-2012</td>\n",
       "      <td>Current</td>\n",
       "      <td>36months</td>\n",
       "    </tr>\n",
       "  </tbody>\n",
       "</table>\n",
       "</div>"
      ],
      "text/plain": [
       "      id  member_id  loan_amnt  funded_amnt  funded_amnt_inv int_rate  \\\n",
       "0  54734      80364      25000        25000         19419.94   11.89%   \n",
       "1  55742     114426       7000         7000          6549.40   10.71%   \n",
       "2  57245     138150       1200         1200          1200.00   13.11%   \n",
       "3  57416     139635      10800        10800         10637.65   13.57%   \n",
       "4  58524     149512       7200         7200          1800.00   19.05%   \n",
       "\n",
       "   installment grade sub_grade  is_inc_v    accept_d     issue_d loan_status  \\\n",
       "0       829.10     B        B4      True  26-07-2009  05-08-2009  Fully Paid   \n",
       "1       228.22     B        B5     False  12-05-2008  27-05-2008  Fully Paid   \n",
       "2        40.50     C        C2     False  11-03-2010  22-03-2010  Fully Paid   \n",
       "3       366.86     C        C3     False  04-11-2009  12-11-2009  Fully Paid   \n",
       "4       264.11     D        D4     False  14-08-2012  21-08-2012     Current   \n",
       "\n",
       "       term  \n",
       "0  36months  \n",
       "1  36months  \n",
       "2  36months  \n",
       "3  36months  \n",
       "4  36months  "
      ]
     },
     "execution_count": 292,
     "metadata": {},
     "output_type": "execute_result"
    }
   ],
   "source": [
    "#top rows\n",
    "loan.head()"
   ]
  },
  {
   "cell_type": "code",
   "execution_count": 293,
   "id": "188d620b",
   "metadata": {},
   "outputs": [
    {
     "data": {
      "text/html": [
       "<div>\n",
       "<style scoped>\n",
       "    .dataframe tbody tr th:only-of-type {\n",
       "        vertical-align: middle;\n",
       "    }\n",
       "\n",
       "    .dataframe tbody tr th {\n",
       "        vertical-align: top;\n",
       "    }\n",
       "\n",
       "    .dataframe thead th {\n",
       "        text-align: right;\n",
       "    }\n",
       "</style>\n",
       "<table border=\"1\" class=\"dataframe\">\n",
       "  <thead>\n",
       "    <tr style=\"text-align: right;\">\n",
       "      <th></th>\n",
       "      <th>id</th>\n",
       "      <th>emp_name</th>\n",
       "      <th>emp_length</th>\n",
       "      <th>home_ownership</th>\n",
       "      <th>annual_inc</th>\n",
       "      <th>desc</th>\n",
       "      <th>purpose</th>\n",
       "      <th>title</th>\n",
       "      <th>addr_city</th>\n",
       "      <th>addr_state</th>\n",
       "    </tr>\n",
       "  </thead>\n",
       "  <tbody>\n",
       "    <tr>\n",
       "      <th>0</th>\n",
       "      <td>446026</td>\n",
       "      <td>Severstal North America</td>\n",
       "      <td>10+ years</td>\n",
       "      <td>OWN</td>\n",
       "      <td>122000.0</td>\n",
       "      <td></td>\n",
       "      <td>debt_consolidation</td>\n",
       "      <td>Good credit here</td>\n",
       "      <td>SILVER SPRING</td>\n",
       "      <td>MD</td>\n",
       "    </tr>\n",
       "    <tr>\n",
       "      <th>1</th>\n",
       "      <td>449093</td>\n",
       "      <td>NaN</td>\n",
       "      <td>&lt; 1 year</td>\n",
       "      <td>RENT</td>\n",
       "      <td>32400.0</td>\n",
       "      <td></td>\n",
       "      <td>debt_consolidation</td>\n",
       "      <td>life consolidation</td>\n",
       "      <td>ARTESIA</td>\n",
       "      <td>CA</td>\n",
       "    </tr>\n",
       "    <tr>\n",
       "      <th>2</th>\n",
       "      <td>449172</td>\n",
       "      <td>Pyramid Services Inc</td>\n",
       "      <td>9 years</td>\n",
       "      <td>RENT</td>\n",
       "      <td>42140.0</td>\n",
       "      <td></td>\n",
       "      <td>debt_consolidation</td>\n",
       "      <td>Looking to get ahead</td>\n",
       "      <td>LANCASTER</td>\n",
       "      <td>CA</td>\n",
       "    </tr>\n",
       "    <tr>\n",
       "      <th>3</th>\n",
       "      <td>449668</td>\n",
       "      <td>desert valley medical group</td>\n",
       "      <td>5 years</td>\n",
       "      <td>RENT</td>\n",
       "      <td>27840.0</td>\n",
       "      <td></td>\n",
       "      <td>debt_consolidation</td>\n",
       "      <td>debt consolidation</td>\n",
       "      <td>NORTH LAS VEGAS</td>\n",
       "      <td>NV</td>\n",
       "    </tr>\n",
       "    <tr>\n",
       "      <th>4</th>\n",
       "      <td>450747</td>\n",
       "      <td>Baptist International Missions, Inc.</td>\n",
       "      <td>10+ years</td>\n",
       "      <td>OWN</td>\n",
       "      <td>25800.0</td>\n",
       "      <td></td>\n",
       "      <td>home_improvement</td>\n",
       "      <td>home improvements</td>\n",
       "      <td>LEWISVILLE</td>\n",
       "      <td>TX</td>\n",
       "    </tr>\n",
       "  </tbody>\n",
       "</table>\n",
       "</div>"
      ],
      "text/plain": [
       "       id                              emp_name emp_length home_ownership  \\\n",
       "0  446026               Severstal North America  10+ years            OWN   \n",
       "1  449093                                   NaN   < 1 year           RENT   \n",
       "2  449172                  Pyramid Services Inc    9 years           RENT   \n",
       "3  449668           desert valley medical group    5 years           RENT   \n",
       "4  450747  Baptist International Missions, Inc.  10+ years            OWN   \n",
       "\n",
       "   annual_inc desc             purpose                 title        addr_city  \\\n",
       "0    122000.0       debt_consolidation      Good credit here    SILVER SPRING   \n",
       "1     32400.0       debt_consolidation    life consolidation          ARTESIA   \n",
       "2     42140.0       debt_consolidation  Looking to get ahead        LANCASTER   \n",
       "3     27840.0       debt_consolidation    debt consolidation  NORTH LAS VEGAS   \n",
       "4     25800.0         home_improvement     home improvements       LEWISVILLE   \n",
       "\n",
       "  addr_state  \n",
       "0         MD  \n",
       "1         CA  \n",
       "2         CA  \n",
       "3         NV  \n",
       "4         TX  "
      ]
     },
     "execution_count": 293,
     "metadata": {},
     "output_type": "execute_result"
    }
   ],
   "source": [
    "demo.head()"
   ]
  },
  {
   "cell_type": "code",
   "execution_count": 294,
   "id": "f952cede",
   "metadata": {},
   "outputs": [
    {
     "data": {
      "text/html": [
       "<div>\n",
       "<style scoped>\n",
       "    .dataframe tbody tr th:only-of-type {\n",
       "        vertical-align: middle;\n",
       "    }\n",
       "\n",
       "    .dataframe tbody tr th {\n",
       "        vertical-align: top;\n",
       "    }\n",
       "\n",
       "    .dataframe thead th {\n",
       "        text-align: right;\n",
       "    }\n",
       "</style>\n",
       "<table border=\"1\" class=\"dataframe\">\n",
       "  <thead>\n",
       "    <tr style=\"text-align: right;\">\n",
       "      <th></th>\n",
       "      <th>id</th>\n",
       "      <th>emp_name</th>\n",
       "      <th>emp_length</th>\n",
       "      <th>home_ownership</th>\n",
       "      <th>annual_inc</th>\n",
       "      <th>desc</th>\n",
       "      <th>purpose</th>\n",
       "      <th>title</th>\n",
       "      <th>addr_city</th>\n",
       "      <th>addr_state</th>\n",
       "    </tr>\n",
       "  </thead>\n",
       "  <tbody>\n",
       "    <tr>\n",
       "      <th>13097</th>\n",
       "      <td>564269</td>\n",
       "      <td>Cornerstone OnDemand</td>\n",
       "      <td>&lt; 1 year</td>\n",
       "      <td>RENT</td>\n",
       "      <td>110000.0</td>\n",
       "      <td>NaN</td>\n",
       "      <td>debt_consolidation</td>\n",
       "      <td>Credit Card</td>\n",
       "      <td>Santa Monica</td>\n",
       "      <td>CA</td>\n",
       "    </tr>\n",
       "    <tr>\n",
       "      <th>13098</th>\n",
       "      <td>564291</td>\n",
       "      <td>Evergreen Unified School District</td>\n",
       "      <td>9 years</td>\n",
       "      <td>OWN</td>\n",
       "      <td>90000.0</td>\n",
       "      <td>NaN</td>\n",
       "      <td>home_improvement</td>\n",
       "      <td>Home Imrovement</td>\n",
       "      <td>Morgan Hill</td>\n",
       "      <td>CA</td>\n",
       "    </tr>\n",
       "    <tr>\n",
       "      <th>13099</th>\n",
       "      <td>564308</td>\n",
       "      <td>exempla</td>\n",
       "      <td>10+ years</td>\n",
       "      <td>MORTGAGE</td>\n",
       "      <td>53664.0</td>\n",
       "      <td>NaN</td>\n",
       "      <td>home_improvement</td>\n",
       "      <td>loan</td>\n",
       "      <td>erie</td>\n",
       "      <td>CO</td>\n",
       "    </tr>\n",
       "    <tr>\n",
       "      <th>13100</th>\n",
       "      <td>564317</td>\n",
       "      <td>Kaiser Permanente</td>\n",
       "      <td>10+ years</td>\n",
       "      <td>MORTGAGE</td>\n",
       "      <td>48000.0</td>\n",
       "      <td>NaN</td>\n",
       "      <td>debt_consolidation</td>\n",
       "      <td>Dez CC Debt Consolidation</td>\n",
       "      <td>Alameda</td>\n",
       "      <td>CA</td>\n",
       "    </tr>\n",
       "    <tr>\n",
       "      <th>13101</th>\n",
       "      <td>564321</td>\n",
       "      <td>RR Donnelley and Sons</td>\n",
       "      <td>4 years</td>\n",
       "      <td>RENT</td>\n",
       "      <td>32004.0</td>\n",
       "      <td>NaN</td>\n",
       "      <td>debt_consolidation</td>\n",
       "      <td>Eric</td>\n",
       "      <td>LITITZ</td>\n",
       "      <td>PA</td>\n",
       "    </tr>\n",
       "  </tbody>\n",
       "</table>\n",
       "</div>"
      ],
      "text/plain": [
       "           id                           emp_name emp_length home_ownership  \\\n",
       "13097  564269               Cornerstone OnDemand   < 1 year           RENT   \n",
       "13098  564291  Evergreen Unified School District    9 years            OWN   \n",
       "13099  564308                            exempla  10+ years       MORTGAGE   \n",
       "13100  564317                  Kaiser Permanente  10+ years       MORTGAGE   \n",
       "13101  564321              RR Donnelley and Sons    4 years           RENT   \n",
       "\n",
       "       annual_inc desc             purpose                      title  \\\n",
       "13097    110000.0  NaN  debt_consolidation                Credit Card   \n",
       "13098     90000.0  NaN    home_improvement            Home Imrovement   \n",
       "13099     53664.0  NaN    home_improvement                       loan   \n",
       "13100     48000.0  NaN  debt_consolidation  Dez CC Debt Consolidation   \n",
       "13101     32004.0  NaN  debt_consolidation                       Eric   \n",
       "\n",
       "          addr_city addr_state  \n",
       "13097  Santa Monica         CA  \n",
       "13098   Morgan Hill         CA  \n",
       "13099          erie         CO  \n",
       "13100       Alameda         CA  \n",
       "13101        LITITZ         PA  "
      ]
     },
     "execution_count": 294,
     "metadata": {},
     "output_type": "execute_result"
    }
   ],
   "source": [
    "demo.tail()"
   ]
  },
  {
   "cell_type": "code",
   "execution_count": 295,
   "id": "94d979ea",
   "metadata": {},
   "outputs": [],
   "source": [
    "#merge transactional and demographics together\n",
    "final_dataset= pd.merge(loan,demo, on='id', how= 'left')"
   ]
  },
  {
   "cell_type": "code",
   "execution_count": 296,
   "id": "25da451e",
   "metadata": {},
   "outputs": [
    {
     "data": {
      "text/html": [
       "<div>\n",
       "<style scoped>\n",
       "    .dataframe tbody tr th:only-of-type {\n",
       "        vertical-align: middle;\n",
       "    }\n",
       "\n",
       "    .dataframe tbody tr th {\n",
       "        vertical-align: top;\n",
       "    }\n",
       "\n",
       "    .dataframe thead th {\n",
       "        text-align: right;\n",
       "    }\n",
       "</style>\n",
       "<table border=\"1\" class=\"dataframe\">\n",
       "  <thead>\n",
       "    <tr style=\"text-align: right;\">\n",
       "      <th></th>\n",
       "      <th>id</th>\n",
       "      <th>member_id</th>\n",
       "      <th>loan_amnt</th>\n",
       "      <th>funded_amnt</th>\n",
       "      <th>funded_amnt_inv</th>\n",
       "      <th>int_rate</th>\n",
       "      <th>installment</th>\n",
       "      <th>grade</th>\n",
       "      <th>sub_grade</th>\n",
       "      <th>is_inc_v</th>\n",
       "      <th>...</th>\n",
       "      <th>term</th>\n",
       "      <th>emp_name</th>\n",
       "      <th>emp_length</th>\n",
       "      <th>home_ownership</th>\n",
       "      <th>annual_inc</th>\n",
       "      <th>desc</th>\n",
       "      <th>purpose</th>\n",
       "      <th>title</th>\n",
       "      <th>addr_city</th>\n",
       "      <th>addr_state</th>\n",
       "    </tr>\n",
       "  </thead>\n",
       "  <tbody>\n",
       "    <tr>\n",
       "      <th>0</th>\n",
       "      <td>54734</td>\n",
       "      <td>80364</td>\n",
       "      <td>25000</td>\n",
       "      <td>25000</td>\n",
       "      <td>19419.94</td>\n",
       "      <td>11.89%</td>\n",
       "      <td>829.10</td>\n",
       "      <td>B</td>\n",
       "      <td>B4</td>\n",
       "      <td>True</td>\n",
       "      <td>...</td>\n",
       "      <td>36months</td>\n",
       "      <td>NaN</td>\n",
       "      <td>&lt; 1 year</td>\n",
       "      <td>RENT</td>\n",
       "      <td>85000.0</td>\n",
       "      <td>Due to a lack of personal finance education an...</td>\n",
       "      <td>debt_consolidation</td>\n",
       "      <td>Debt consolidation for on-time payer</td>\n",
       "      <td>San Francisco</td>\n",
       "      <td>CA</td>\n",
       "    </tr>\n",
       "    <tr>\n",
       "      <th>1</th>\n",
       "      <td>55742</td>\n",
       "      <td>114426</td>\n",
       "      <td>7000</td>\n",
       "      <td>7000</td>\n",
       "      <td>6549.40</td>\n",
       "      <td>10.71%</td>\n",
       "      <td>228.22</td>\n",
       "      <td>B</td>\n",
       "      <td>B5</td>\n",
       "      <td>False</td>\n",
       "      <td>...</td>\n",
       "      <td>36months</td>\n",
       "      <td>CNN</td>\n",
       "      <td>&lt; 1 year</td>\n",
       "      <td>RENT</td>\n",
       "      <td>65000.0</td>\n",
       "      <td>Just want to pay off the last bit of credit ca...</td>\n",
       "      <td>credit_card</td>\n",
       "      <td>Credit Card payoff</td>\n",
       "      <td>Brooklyn</td>\n",
       "      <td>NY</td>\n",
       "    </tr>\n",
       "    <tr>\n",
       "      <th>2</th>\n",
       "      <td>57245</td>\n",
       "      <td>138150</td>\n",
       "      <td>1200</td>\n",
       "      <td>1200</td>\n",
       "      <td>1200.00</td>\n",
       "      <td>13.11%</td>\n",
       "      <td>40.50</td>\n",
       "      <td>C</td>\n",
       "      <td>C2</td>\n",
       "      <td>False</td>\n",
       "      <td>...</td>\n",
       "      <td>36months</td>\n",
       "      <td>city of beaumont texas</td>\n",
       "      <td>10+ years</td>\n",
       "      <td>OWN</td>\n",
       "      <td>54000.0</td>\n",
       "      <td>If funded, I would use this loan consolidate t...</td>\n",
       "      <td>debt_consolidation</td>\n",
       "      <td>zxcvb</td>\n",
       "      <td>beaumont</td>\n",
       "      <td>TX</td>\n",
       "    </tr>\n",
       "    <tr>\n",
       "      <th>3</th>\n",
       "      <td>57416</td>\n",
       "      <td>139635</td>\n",
       "      <td>10800</td>\n",
       "      <td>10800</td>\n",
       "      <td>10637.65</td>\n",
       "      <td>13.57%</td>\n",
       "      <td>366.86</td>\n",
       "      <td>C</td>\n",
       "      <td>C3</td>\n",
       "      <td>False</td>\n",
       "      <td>...</td>\n",
       "      <td>36months</td>\n",
       "      <td>State Farm Insurance</td>\n",
       "      <td>6 years</td>\n",
       "      <td>RENT</td>\n",
       "      <td>32000.0</td>\n",
       "      <td>I currently have a personal loan with Citifina...</td>\n",
       "      <td>debt_consolidation</td>\n",
       "      <td>Nicolechr1978</td>\n",
       "      <td>Waterbury</td>\n",
       "      <td>CT</td>\n",
       "    </tr>\n",
       "    <tr>\n",
       "      <th>4</th>\n",
       "      <td>58524</td>\n",
       "      <td>149512</td>\n",
       "      <td>7200</td>\n",
       "      <td>7200</td>\n",
       "      <td>1800.00</td>\n",
       "      <td>19.05%</td>\n",
       "      <td>264.11</td>\n",
       "      <td>D</td>\n",
       "      <td>D4</td>\n",
       "      <td>False</td>\n",
       "      <td>...</td>\n",
       "      <td>36months</td>\n",
       "      <td>Arkwright</td>\n",
       "      <td>9 years</td>\n",
       "      <td>RENT</td>\n",
       "      <td>58000.0</td>\n",
       "      <td>Credit cards are out of here, I am tired of be...</td>\n",
       "      <td>debt_consolidation</td>\n",
       "      <td>caminijio</td>\n",
       "      <td>West Warwick</td>\n",
       "      <td>RI</td>\n",
       "    </tr>\n",
       "  </tbody>\n",
       "</table>\n",
       "<p>5 rows × 23 columns</p>\n",
       "</div>"
      ],
      "text/plain": [
       "      id  member_id  loan_amnt  funded_amnt  funded_amnt_inv int_rate  \\\n",
       "0  54734      80364      25000        25000         19419.94   11.89%   \n",
       "1  55742     114426       7000         7000          6549.40   10.71%   \n",
       "2  57245     138150       1200         1200          1200.00   13.11%   \n",
       "3  57416     139635      10800        10800         10637.65   13.57%   \n",
       "4  58524     149512       7200         7200          1800.00   19.05%   \n",
       "\n",
       "   installment grade sub_grade  is_inc_v  ...      term  \\\n",
       "0       829.10     B        B4      True  ...  36months   \n",
       "1       228.22     B        B5     False  ...  36months   \n",
       "2        40.50     C        C2     False  ...  36months   \n",
       "3       366.86     C        C3     False  ...  36months   \n",
       "4       264.11     D        D4     False  ...  36months   \n",
       "\n",
       "                 emp_name emp_length home_ownership annual_inc  \\\n",
       "0                     NaN   < 1 year           RENT    85000.0   \n",
       "1                     CNN   < 1 year           RENT    65000.0   \n",
       "2  city of beaumont texas  10+ years            OWN    54000.0   \n",
       "3    State Farm Insurance    6 years           RENT    32000.0   \n",
       "4               Arkwright    9 years           RENT    58000.0   \n",
       "\n",
       "                                                desc             purpose  \\\n",
       "0  Due to a lack of personal finance education an...  debt_consolidation   \n",
       "1  Just want to pay off the last bit of credit ca...         credit_card   \n",
       "2  If funded, I would use this loan consolidate t...  debt_consolidation   \n",
       "3  I currently have a personal loan with Citifina...  debt_consolidation   \n",
       "4  Credit cards are out of here, I am tired of be...  debt_consolidation   \n",
       "\n",
       "                                  title      addr_city addr_state  \n",
       "0  Debt consolidation for on-time payer  San Francisco         CA  \n",
       "1                    Credit Card payoff       Brooklyn         NY  \n",
       "2                                 zxcvb       beaumont         TX  \n",
       "3                         Nicolechr1978      Waterbury         CT  \n",
       "4                             caminijio   West Warwick         RI  \n",
       "\n",
       "[5 rows x 23 columns]"
      ]
     },
     "execution_count": 296,
     "metadata": {},
     "output_type": "execute_result"
    }
   ],
   "source": [
    "final_dataset.head()"
   ]
  },
  {
   "cell_type": "code",
   "execution_count": 297,
   "id": "10c0b8ae",
   "metadata": {},
   "outputs": [
    {
     "data": {
      "text/plain": [
       "Index(['id', 'member_id', 'loan_amnt', 'funded_amnt', 'funded_amnt_inv',\n",
       "       'int_rate', 'installment', 'grade', 'sub_grade', 'is_inc_v', 'accept_d',\n",
       "       'issue_d', 'loan_status', 'term', 'emp_name', 'emp_length',\n",
       "       'home_ownership', 'annual_inc', 'desc', 'purpose', 'title', 'addr_city',\n",
       "       'addr_state'],\n",
       "      dtype='object')"
      ]
     },
     "execution_count": 297,
     "metadata": {},
     "output_type": "execute_result"
    }
   ],
   "source": [
    "final_dataset.columns"
   ]
  },
  {
   "cell_type": "code",
   "execution_count": 298,
   "id": "6f49d316",
   "metadata": {},
   "outputs": [],
   "source": [
    "#Dictionary \n",
    "#key:value pair\n",
    "Dict = ['Amit', 'is', 'conducting', 'session']\n",
    "List = {1:'Amit', 2: 'is', 3:'conducting', 4:'session'}"
   ]
  },
  {
   "cell_type": "code",
   "execution_count": 299,
   "id": "502ba360",
   "metadata": {},
   "outputs": [
    {
     "name": "stdout",
     "output_type": "stream",
     "text": [
      "['Amit', 'is', 'conducting', 'session']\n"
     ]
    }
   ],
   "source": [
    "print(Dict)"
   ]
  },
  {
   "cell_type": "code",
   "execution_count": 300,
   "id": "0e40aca6",
   "metadata": {},
   "outputs": [
    {
     "name": "stdout",
     "output_type": "stream",
     "text": [
      "{1: 'Amit', 2: 'is', 3: 'conducting', 4: 'session'}\n"
     ]
    }
   ],
   "source": [
    "print(List)"
   ]
  },
  {
   "cell_type": "code",
   "execution_count": 301,
   "id": "1fc377a3",
   "metadata": {},
   "outputs": [
    {
     "data": {
      "text/plain": [
       "id                   int64\n",
       "member_id            int64\n",
       "loan_amnt            int64\n",
       "funded_amnt          int64\n",
       "funded_amnt_inv    float64\n",
       "int_rate            object\n",
       "installment        float64\n",
       "grade               object\n",
       "sub_grade           object\n",
       "is_inc_v              bool\n",
       "accept_d            object\n",
       "issue_d             object\n",
       "loan_status         object\n",
       "term                object\n",
       "emp_name            object\n",
       "emp_length          object\n",
       "home_ownership      object\n",
       "annual_inc         float64\n",
       "desc                object\n",
       "purpose             object\n",
       "title               object\n",
       "addr_city           object\n",
       "addr_state          object\n",
       "dtype: object"
      ]
     },
     "execution_count": 301,
     "metadata": {},
     "output_type": "execute_result"
    }
   ],
   "source": [
    "final_dataset.dtypes"
   ]
  },
  {
   "cell_type": "code",
   "execution_count": 302,
   "id": "b4b23f26",
   "metadata": {},
   "outputs": [
    {
     "data": {
      "text/plain": [
       "0.10     3000.0\n",
       "0.25     5000.0\n",
       "0.50     9000.0\n",
       "0.75    14375.0\n",
       "0.99    25000.0\n",
       "Name: loan_amnt, dtype: float64"
      ]
     },
     "execution_count": 302,
     "metadata": {},
     "output_type": "execute_result"
    }
   ],
   "source": [
    "final_dataset.loan_amnt.quantile([0.1,0.25,0.5,0.75,0.99])\n",
    "#most amt above 0.99 percentile"
   ]
  },
  {
   "cell_type": "code",
   "execution_count": 303,
   "id": "72d530d0",
   "metadata": {},
   "outputs": [
    {
     "name": "stdout",
     "output_type": "stream",
     "text": [
      "32875\n",
      "10106.810029003205\n",
      "500\n"
     ]
    }
   ],
   "source": [
    "print(final_dataset.loan_amnt.max())\n",
    "print(final_dataset.loan_amnt.mean())\n",
    "print(final_dataset.loan_amnt.min())"
   ]
  },
  {
   "cell_type": "code",
   "execution_count": 304,
   "id": "e67445b1",
   "metadata": {},
   "outputs": [
    {
     "data": {
      "text/plain": [
       "0.10     3000.0\n",
       "0.25     5000.0\n",
       "0.50     8500.0\n",
       "0.75    14000.0\n",
       "0.99    25000.0\n",
       "Name: funded_amnt, dtype: float64"
      ]
     },
     "execution_count": 304,
     "metadata": {},
     "output_type": "execute_result"
    }
   ],
   "source": [
    "final_dataset.funded_amnt.quantile([0.1,0.25,0.5,0.75,0.99])"
   ]
  },
  {
   "cell_type": "code",
   "execution_count": 305,
   "id": "783c7971",
   "metadata": {},
   "outputs": [
    {
     "name": "stdout",
     "output_type": "stream",
     "text": [
      "32875\n",
      "9865.669363455962\n",
      "500\n"
     ]
    }
   ],
   "source": [
    "#getting more insights about loan amount and funded amount\n",
    "print(final_dataset.funded_amnt.max())\n",
    "print(final_dataset.funded_amnt.mean())\n",
    "print(final_dataset.funded_amnt.min())"
   ]
  },
  {
   "cell_type": "code",
   "execution_count": 306,
   "id": "30196237",
   "metadata": {},
   "outputs": [
    {
     "data": {
      "text/plain": [
       "0.0"
      ]
     },
     "execution_count": 306,
     "metadata": {},
     "output_type": "execute_result"
    }
   ],
   "source": [
    "#2\n",
    "final_dataset.funded_amnt_inv.isnull().sum()/len(final_dataset.funded_amnt_inv)"
   ]
  },
  {
   "cell_type": "code",
   "execution_count": 307,
   "id": "451922fb",
   "metadata": {},
   "outputs": [
    {
     "data": {
      "text/plain": [
       "13102"
      ]
     },
     "execution_count": 307,
     "metadata": {},
     "output_type": "execute_result"
    }
   ],
   "source": [
    "final_dataset.funded_amnt_inv.count()"
   ]
  },
  {
   "cell_type": "code",
   "execution_count": 308,
   "id": "d24f8428",
   "metadata": {},
   "outputs": [],
   "source": [
    "# This function separately created as DQR\n",
    "# def dataQuality(data):\n",
    "#    d={}\n",
    "#    def numeric_quantity(data):\n",
    "#        def q1(x):\n",
    "#            return x.quantile(0.25)\n",
    "#        def q3(x):\n",
    "#            return x.quantile(0.75)\n",
    "#        def q99(x):\n",
    "#            return x.quantile(0.99)\n",
    "#        def count(x):\n",
    "#            return x.count()\n",
    "#        def miss_per(x):\n",
    "#            return x.isnull().sum()/len(x)\n",
    "#        def unique(x):\n",
    "#            return len(x.unique())\n",
    "#        qr= dict()\n",
    "    \n",
    "# select only numeric datatypes\n",
    "# syntax- oops concept\n",
    "# object=data, function=select_dtypes\n",
    "\n",
    "#        data = data.select_dtypes(include=[np.number])\n",
    "    \n",
    "#        for i in np.arange(0, len(data.columns),1):\n",
    "#            xi = data.agg({data.columns[i]:[count , unique, miss_per, np.min, np.max, np.mean, np.median, np.std, q1,q3,q99]})\n",
    "#            df1 = pd.DataFrame(qr)\n",
    "#            #df1.index=xi.index\n",
    "#            df1.index = [\"Count\", \"Unique\", \"Miss_per\", \"Min\", \"Max\", \"Mean\", \"Median\", \"Std\", \"Q1\", \"Q3\", \"Q99\"]\n",
    "#            df1 = df1.T.sort_values(by = 'Miss_per', ascending = False)\n",
    "#        return df1[df1['Miss_per'<0.15]] #Optional step(where 0.15 value is also optional)\n",
    "#    d['numeric'] = numeric_quality(data)\n",
    "        \n",
    "#    def cat_quantity(data):\n",
    "#        def count(x):\n",
    "#            return x.count()\n",
    "#        def miss_per(x):\n",
    "#            return x.isnull().sum()/len(x)\n",
    "#        def unique(x):\n",
    "#            return len(x.unique())\n",
    "#        def freq_cat(x):\n",
    "#            return x.value_counts().sort_values(ascending= False).index[0]\n",
    "#        def freq_cat_per(x):\n",
    "#            return x.value_counts().sort_values(ascending= False).index[0]/len(x)\n",
    "#        qr= dict()\n",
    "#        #select only object datatypes\n",
    "#        data = data.select_dtypes(include = [object])\n",
    "        \n",
    "#        for i in np.arange(0, len(data.columns),1):\n",
    "#            xi = data.agg({data.columns[i]:[count , unique, miss_per, freq_cat, freq_cat_per]})\n",
    "#            df2 = pd.DataFrame(qr)\n",
    "#            #df2.index=xi.index\n",
    "#            df2.index = [\"Count\", \"Unique\", \"Miss_per\", \"Freq_level\", \"freq_cat_Per\"]\n",
    "#            df2 = df2.T.sort_values(by = 'Miss_per', ascending = False)\n",
    "#        return df2[df2['Miss_per'<0.15]] #Optional step(where 0.15 value is also optional)\n",
    "#    d['categorical'] = cat_quantity(data)  \n",
    "#    return d"
   ]
  },
  {
   "cell_type": "code",
   "execution_count": 309,
   "id": "e3956c08",
   "metadata": {},
   "outputs": [],
   "source": [
    "r1 = dataQuality(final_dataset)"
   ]
  },
  {
   "cell_type": "code",
   "execution_count": 310,
   "id": "9b504ff5",
   "metadata": {},
   "outputs": [
    {
     "data": {
      "text/html": [
       "<div>\n",
       "<style scoped>\n",
       "    .dataframe tbody tr th:only-of-type {\n",
       "        vertical-align: middle;\n",
       "    }\n",
       "\n",
       "    .dataframe tbody tr th {\n",
       "        vertical-align: top;\n",
       "    }\n",
       "\n",
       "    .dataframe thead th {\n",
       "        text-align: right;\n",
       "    }\n",
       "</style>\n",
       "<table border=\"1\" class=\"dataframe\">\n",
       "  <thead>\n",
       "    <tr style=\"text-align: right;\">\n",
       "      <th></th>\n",
       "      <th>Count</th>\n",
       "      <th>Unique</th>\n",
       "      <th>Miss_per</th>\n",
       "      <th>Min</th>\n",
       "      <th>Max</th>\n",
       "      <th>Mean</th>\n",
       "      <th>Median</th>\n",
       "      <th>Std</th>\n",
       "      <th>Q1</th>\n",
       "      <th>Q3</th>\n",
       "      <th>q99</th>\n",
       "    </tr>\n",
       "  </thead>\n",
       "  <tbody>\n",
       "    <tr>\n",
       "      <th>id</th>\n",
       "      <td>13102.0</td>\n",
       "      <td>13102.0</td>\n",
       "      <td>0.0</td>\n",
       "      <td>54734.00</td>\n",
       "      <td>5.643210e+05</td>\n",
       "      <td>451217.198748</td>\n",
       "      <td>469786.50</td>\n",
       "      <td>87777.850367</td>\n",
       "      <td>406038.25</td>\n",
       "      <td>514895.750000</td>\n",
       "      <td>561950.87</td>\n",
       "    </tr>\n",
       "    <tr>\n",
       "      <th>member_id</th>\n",
       "      <td>13102.0</td>\n",
       "      <td>13102.0</td>\n",
       "      <td>0.0</td>\n",
       "      <td>70699.00</td>\n",
       "      <td>7.261130e+05</td>\n",
       "      <td>550598.053351</td>\n",
       "      <td>591153.00</td>\n",
       "      <td>141085.818027</td>\n",
       "      <td>450348.75</td>\n",
       "      <td>665106.250000</td>\n",
       "      <td>723029.90</td>\n",
       "    </tr>\n",
       "    <tr>\n",
       "      <th>loan_amnt</th>\n",
       "      <td>13102.0</td>\n",
       "      <td>477.0</td>\n",
       "      <td>0.0</td>\n",
       "      <td>500.00</td>\n",
       "      <td>3.287500e+04</td>\n",
       "      <td>10106.810029</td>\n",
       "      <td>9000.00</td>\n",
       "      <td>6269.629402</td>\n",
       "      <td>5000.00</td>\n",
       "      <td>14375.000000</td>\n",
       "      <td>25000.00</td>\n",
       "    </tr>\n",
       "    <tr>\n",
       "      <th>funded_amnt</th>\n",
       "      <td>13102.0</td>\n",
       "      <td>643.0</td>\n",
       "      <td>0.0</td>\n",
       "      <td>500.00</td>\n",
       "      <td>3.287500e+04</td>\n",
       "      <td>9865.669363</td>\n",
       "      <td>8500.00</td>\n",
       "      <td>6067.713492</td>\n",
       "      <td>5000.00</td>\n",
       "      <td>14000.000000</td>\n",
       "      <td>25000.00</td>\n",
       "    </tr>\n",
       "    <tr>\n",
       "      <th>funded_amnt_inv</th>\n",
       "      <td>13102.0</td>\n",
       "      <td>5207.0</td>\n",
       "      <td>0.0</td>\n",
       "      <td>0.00</td>\n",
       "      <td>2.844569e+04</td>\n",
       "      <td>9186.143833</td>\n",
       "      <td>7975.00</td>\n",
       "      <td>5790.303300</td>\n",
       "      <td>4900.00</td>\n",
       "      <td>12372.804228</td>\n",
       "      <td>24800.00</td>\n",
       "    </tr>\n",
       "    <tr>\n",
       "      <th>installment</th>\n",
       "      <td>13102.0</td>\n",
       "      <td>6080.0</td>\n",
       "      <td>0.0</td>\n",
       "      <td>15.69</td>\n",
       "      <td>1.043890e+03</td>\n",
       "      <td>317.581097</td>\n",
       "      <td>270.41</td>\n",
       "      <td>201.748192</td>\n",
       "      <td>164.57</td>\n",
       "      <td>423.280000</td>\n",
       "      <td>870.39</td>\n",
       "    </tr>\n",
       "    <tr>\n",
       "      <th>annual_inc</th>\n",
       "      <td>13102.0</td>\n",
       "      <td>2531.0</td>\n",
       "      <td>0.0</td>\n",
       "      <td>4000.00</td>\n",
       "      <td>6.000000e+06</td>\n",
       "      <td>68391.509640</td>\n",
       "      <td>56000.00</td>\n",
       "      <td>91640.651869</td>\n",
       "      <td>40000.00</td>\n",
       "      <td>80000.000000</td>\n",
       "      <td>239970.00</td>\n",
       "    </tr>\n",
       "  </tbody>\n",
       "</table>\n",
       "</div>"
      ],
      "text/plain": [
       "                   Count   Unique  Miss_per       Min           Max  \\\n",
       "id               13102.0  13102.0       0.0  54734.00  5.643210e+05   \n",
       "member_id        13102.0  13102.0       0.0  70699.00  7.261130e+05   \n",
       "loan_amnt        13102.0    477.0       0.0    500.00  3.287500e+04   \n",
       "funded_amnt      13102.0    643.0       0.0    500.00  3.287500e+04   \n",
       "funded_amnt_inv  13102.0   5207.0       0.0      0.00  2.844569e+04   \n",
       "installment      13102.0   6080.0       0.0     15.69  1.043890e+03   \n",
       "annual_inc       13102.0   2531.0       0.0   4000.00  6.000000e+06   \n",
       "\n",
       "                          Mean     Median            Std         Q1  \\\n",
       "id               451217.198748  469786.50   87777.850367  406038.25   \n",
       "member_id        550598.053351  591153.00  141085.818027  450348.75   \n",
       "loan_amnt         10106.810029    9000.00    6269.629402    5000.00   \n",
       "funded_amnt        9865.669363    8500.00    6067.713492    5000.00   \n",
       "funded_amnt_inv    9186.143833    7975.00    5790.303300    4900.00   \n",
       "installment         317.581097     270.41     201.748192     164.57   \n",
       "annual_inc        68391.509640   56000.00   91640.651869   40000.00   \n",
       "\n",
       "                            Q3        q99  \n",
       "id               514895.750000  561950.87  \n",
       "member_id        665106.250000  723029.90  \n",
       "loan_amnt         14375.000000   25000.00  \n",
       "funded_amnt       14000.000000   25000.00  \n",
       "funded_amnt_inv   12372.804228   24800.00  \n",
       "installment         423.280000     870.39  \n",
       "annual_inc        80000.000000  239970.00  "
      ]
     },
     "execution_count": 310,
     "metadata": {},
     "output_type": "execute_result"
    }
   ],
   "source": [
    "r1['numeric']"
   ]
  },
  {
   "cell_type": "code",
   "execution_count": 311,
   "id": "c29383f5",
   "metadata": {},
   "outputs": [
    {
     "data": {
      "text/html": [
       "<div>\n",
       "<style scoped>\n",
       "    .dataframe tbody tr th:only-of-type {\n",
       "        vertical-align: middle;\n",
       "    }\n",
       "\n",
       "    .dataframe tbody tr th {\n",
       "        vertical-align: top;\n",
       "    }\n",
       "\n",
       "    .dataframe thead th {\n",
       "        text-align: right;\n",
       "    }\n",
       "</style>\n",
       "<table border=\"1\" class=\"dataframe\">\n",
       "  <thead>\n",
       "    <tr style=\"text-align: right;\">\n",
       "      <th></th>\n",
       "      <th>Count</th>\n",
       "      <th>Unique</th>\n",
       "      <th>Miss_per</th>\n",
       "      <th>Freq_Level</th>\n",
       "      <th>freq_cat_Per</th>\n",
       "    </tr>\n",
       "  </thead>\n",
       "  <tbody>\n",
       "    <tr>\n",
       "      <th>emp_name</th>\n",
       "      <td>12365</td>\n",
       "      <td>10488</td>\n",
       "      <td>0.056251</td>\n",
       "      <td>Self Employed</td>\n",
       "      <td>0.002442</td>\n",
       "    </tr>\n",
       "    <tr>\n",
       "      <th>emp_length</th>\n",
       "      <td>12939</td>\n",
       "      <td>12</td>\n",
       "      <td>0.012441</td>\n",
       "      <td>10+ years</td>\n",
       "      <td>0.185697</td>\n",
       "    </tr>\n",
       "    <tr>\n",
       "      <th>title</th>\n",
       "      <td>13092</td>\n",
       "      <td>9147</td>\n",
       "      <td>0.000763</td>\n",
       "      <td>Debt Consolidation</td>\n",
       "      <td>0.035491</td>\n",
       "    </tr>\n",
       "    <tr>\n",
       "      <th>int_rate</th>\n",
       "      <td>13102</td>\n",
       "      <td>269</td>\n",
       "      <td>0.0</td>\n",
       "      <td>7.88%</td>\n",
       "      <td>0.041139</td>\n",
       "    </tr>\n",
       "    <tr>\n",
       "      <th>grade</th>\n",
       "      <td>13102</td>\n",
       "      <td>7</td>\n",
       "      <td>0.0</td>\n",
       "      <td>B</td>\n",
       "      <td>0.30896</td>\n",
       "    </tr>\n",
       "    <tr>\n",
       "      <th>sub_grade</th>\n",
       "      <td>13102</td>\n",
       "      <td>35</td>\n",
       "      <td>0.0</td>\n",
       "      <td>A5</td>\n",
       "      <td>0.08533</td>\n",
       "    </tr>\n",
       "    <tr>\n",
       "      <th>accept_d</th>\n",
       "      <td>13102</td>\n",
       "      <td>1142</td>\n",
       "      <td>0.0</td>\n",
       "      <td>11-05-2010</td>\n",
       "      <td>0.005572</td>\n",
       "    </tr>\n",
       "    <tr>\n",
       "      <th>issue_d</th>\n",
       "      <td>13102</td>\n",
       "      <td>831</td>\n",
       "      <td>0.0</td>\n",
       "      <td>31-05-2010</td>\n",
       "      <td>0.015417</td>\n",
       "    </tr>\n",
       "    <tr>\n",
       "      <th>loan_status</th>\n",
       "      <td>13102</td>\n",
       "      <td>7</td>\n",
       "      <td>0.0</td>\n",
       "      <td>Fully Paid</td>\n",
       "      <td>0.719356</td>\n",
       "    </tr>\n",
       "    <tr>\n",
       "      <th>term</th>\n",
       "      <td>13102</td>\n",
       "      <td>2</td>\n",
       "      <td>0.0</td>\n",
       "      <td>36months</td>\n",
       "      <td>0.902534</td>\n",
       "    </tr>\n",
       "    <tr>\n",
       "      <th>home_ownership</th>\n",
       "      <td>13102</td>\n",
       "      <td>5</td>\n",
       "      <td>0.0</td>\n",
       "      <td>RENT</td>\n",
       "      <td>0.507938</td>\n",
       "    </tr>\n",
       "    <tr>\n",
       "      <th>purpose</th>\n",
       "      <td>13102</td>\n",
       "      <td>14</td>\n",
       "      <td>0.0</td>\n",
       "      <td>debt_consolidation</td>\n",
       "      <td>0.43024</td>\n",
       "    </tr>\n",
       "    <tr>\n",
       "      <th>addr_city</th>\n",
       "      <td>13102</td>\n",
       "      <td>5495</td>\n",
       "      <td>0.0</td>\n",
       "      <td>New York</td>\n",
       "      <td>0.011525</td>\n",
       "    </tr>\n",
       "    <tr>\n",
       "      <th>addr_state</th>\n",
       "      <td>13102</td>\n",
       "      <td>51</td>\n",
       "      <td>0.0</td>\n",
       "      <td>CA</td>\n",
       "      <td>0.180659</td>\n",
       "    </tr>\n",
       "  </tbody>\n",
       "</table>\n",
       "</div>"
      ],
      "text/plain": [
       "                Count Unique  Miss_per          Freq_Level freq_cat_Per\n",
       "emp_name        12365  10488  0.056251       Self Employed     0.002442\n",
       "emp_length      12939     12  0.012441           10+ years     0.185697\n",
       "title           13092   9147  0.000763  Debt Consolidation     0.035491\n",
       "int_rate        13102    269       0.0               7.88%     0.041139\n",
       "grade           13102      7       0.0                   B      0.30896\n",
       "sub_grade       13102     35       0.0                  A5      0.08533\n",
       "accept_d        13102   1142       0.0          11-05-2010     0.005572\n",
       "issue_d         13102    831       0.0          31-05-2010     0.015417\n",
       "loan_status     13102      7       0.0          Fully Paid     0.719356\n",
       "term            13102      2       0.0            36months     0.902534\n",
       "home_ownership  13102      5       0.0                RENT     0.507938\n",
       "purpose         13102     14       0.0  debt_consolidation      0.43024\n",
       "addr_city       13102   5495       0.0            New York     0.011525\n",
       "addr_state      13102     51       0.0                  CA     0.180659"
      ]
     },
     "execution_count": 311,
     "metadata": {},
     "output_type": "execute_result"
    }
   ],
   "source": [
    "r1['categorical']"
   ]
  },
  {
   "cell_type": "code",
   "execution_count": 312,
   "id": "4a9a0d0f",
   "metadata": {},
   "outputs": [
    {
     "data": {
      "text/plain": [
       "0    11.89%\n",
       "1    10.71%\n",
       "2    13.11%\n",
       "3    13.57%\n",
       "4    19.05%\n",
       "Name: int_rate, dtype: object"
      ]
     },
     "execution_count": 312,
     "metadata": {},
     "output_type": "execute_result"
    }
   ],
   "source": [
    "#int_rate is a numerical variable but shown in categorical\n",
    "final_dataset.int_rate.head()\n",
    "#the problem is the '%' symbol"
   ]
  },
  {
   "cell_type": "code",
   "execution_count": 313,
   "id": "f5c071c6",
   "metadata": {},
   "outputs": [
    {
     "data": {
      "text/plain": [
       "debt_consolidation    0.430240\n",
       "other                 0.132117\n",
       "credit_card           0.130133\n",
       "home_improvement      0.068463\n",
       "major_purchase        0.060830\n",
       "small_business        0.050221\n",
       "car                   0.030224\n",
       "wedding               0.024805\n",
       "educational           0.023966\n",
       "medical               0.015799\n",
       "moving                0.014273\n",
       "house                 0.010075\n",
       "vacation              0.007022\n",
       "renewable_energy      0.001832\n",
       "Name: purpose, dtype: float64"
      ]
     },
     "execution_count": 313,
     "metadata": {},
     "output_type": "execute_result"
    }
   ],
   "source": [
    "#Purpose of loans taken in P2P\n",
    "pie= final_dataset['purpose'].value_counts()/final_dataset.shape[0]\n",
    "pie"
   ]
  },
  {
   "cell_type": "code",
   "execution_count": 314,
   "id": "c09e5036",
   "metadata": {},
   "outputs": [
    {
     "data": {
      "text/plain": [
       "36months    0.902534\n",
       "60months    0.097466\n",
       "Name: term, dtype: float64"
      ]
     },
     "execution_count": 314,
     "metadata": {},
     "output_type": "execute_result"
    }
   ],
   "source": [
    "final_dataset['term'].value_counts()/final_dataset.shape[0]"
   ]
  },
  {
   "cell_type": "code",
   "execution_count": 315,
   "id": "8873f758",
   "metadata": {},
   "outputs": [
    {
     "data": {
      "text/html": [
       "<div>\n",
       "<style scoped>\n",
       "    .dataframe tbody tr th:only-of-type {\n",
       "        vertical-align: middle;\n",
       "    }\n",
       "\n",
       "    .dataframe tbody tr th {\n",
       "        vertical-align: top;\n",
       "    }\n",
       "\n",
       "    .dataframe thead th {\n",
       "        text-align: right;\n",
       "    }\n",
       "</style>\n",
       "<table border=\"1\" class=\"dataframe\">\n",
       "  <thead>\n",
       "    <tr style=\"text-align: right;\">\n",
       "      <th>term</th>\n",
       "      <th>36months</th>\n",
       "      <th>60months</th>\n",
       "    </tr>\n",
       "    <tr>\n",
       "      <th>loan_status</th>\n",
       "      <th></th>\n",
       "      <th></th>\n",
       "    </tr>\n",
       "  </thead>\n",
       "  <tbody>\n",
       "    <tr>\n",
       "      <th>Charged Off</th>\n",
       "      <td>0.102580</td>\n",
       "      <td>0.013204</td>\n",
       "    </tr>\n",
       "    <tr>\n",
       "      <th>Current</th>\n",
       "      <td>0.096092</td>\n",
       "      <td>0.057091</td>\n",
       "    </tr>\n",
       "    <tr>\n",
       "      <th>Default</th>\n",
       "      <td>0.000458</td>\n",
       "      <td>0.000000</td>\n",
       "    </tr>\n",
       "    <tr>\n",
       "      <th>Fully Paid</th>\n",
       "      <td>0.695772</td>\n",
       "      <td>0.023584</td>\n",
       "    </tr>\n",
       "    <tr>\n",
       "      <th>In Grace Period</th>\n",
       "      <td>0.001832</td>\n",
       "      <td>0.001374</td>\n",
       "    </tr>\n",
       "    <tr>\n",
       "      <th>Late (16-30 days)</th>\n",
       "      <td>0.000687</td>\n",
       "      <td>0.000076</td>\n",
       "    </tr>\n",
       "    <tr>\n",
       "      <th>Late (31-120 days)</th>\n",
       "      <td>0.005114</td>\n",
       "      <td>0.002137</td>\n",
       "    </tr>\n",
       "  </tbody>\n",
       "</table>\n",
       "</div>"
      ],
      "text/plain": [
       "term                36months  60months\n",
       "loan_status                           \n",
       "Charged Off         0.102580  0.013204\n",
       "Current             0.096092  0.057091\n",
       "Default             0.000458  0.000000\n",
       "Fully Paid          0.695772  0.023584\n",
       "In Grace Period     0.001832  0.001374\n",
       "Late (16-30 days)   0.000687  0.000076\n",
       "Late (31-120 days)  0.005114  0.002137"
      ]
     },
     "execution_count": 315,
     "metadata": {},
     "output_type": "execute_result"
    }
   ],
   "source": [
    "#python pivot table\n",
    "pd.crosstab(final_dataset['loan_status'],final_dataset['term'])/final_dataset.shape[0]"
   ]
  },
  {
   "cell_type": "code",
   "execution_count": 316,
   "id": "39c37cc1",
   "metadata": {},
   "outputs": [
    {
     "data": {
      "text/html": [
       "<div>\n",
       "<style scoped>\n",
       "    .dataframe tbody tr th:only-of-type {\n",
       "        vertical-align: middle;\n",
       "    }\n",
       "\n",
       "    .dataframe tbody tr th {\n",
       "        vertical-align: top;\n",
       "    }\n",
       "\n",
       "    .dataframe thead th {\n",
       "        text-align: right;\n",
       "    }\n",
       "</style>\n",
       "<table border=\"1\" class=\"dataframe\">\n",
       "  <thead>\n",
       "    <tr style=\"text-align: right;\">\n",
       "      <th>home_ownership</th>\n",
       "      <th>MORTGAGE</th>\n",
       "      <th>NONE</th>\n",
       "      <th>OTHER</th>\n",
       "      <th>OWN</th>\n",
       "      <th>RENT</th>\n",
       "    </tr>\n",
       "    <tr>\n",
       "      <th>loan_status</th>\n",
       "      <th></th>\n",
       "      <th></th>\n",
       "      <th></th>\n",
       "      <th></th>\n",
       "      <th></th>\n",
       "    </tr>\n",
       "  </thead>\n",
       "  <tbody>\n",
       "    <tr>\n",
       "      <th>Charged Off</th>\n",
       "      <td>0.044802</td>\n",
       "      <td>0.000000</td>\n",
       "      <td>0.001298</td>\n",
       "      <td>0.008854</td>\n",
       "      <td>0.060830</td>\n",
       "    </tr>\n",
       "    <tr>\n",
       "      <th>Current</th>\n",
       "      <td>0.069608</td>\n",
       "      <td>0.000000</td>\n",
       "      <td>0.000076</td>\n",
       "      <td>0.010380</td>\n",
       "      <td>0.073119</td>\n",
       "    </tr>\n",
       "    <tr>\n",
       "      <th>Default</th>\n",
       "      <td>0.000076</td>\n",
       "      <td>0.000000</td>\n",
       "      <td>0.000000</td>\n",
       "      <td>0.000076</td>\n",
       "      <td>0.000305</td>\n",
       "    </tr>\n",
       "    <tr>\n",
       "      <th>Fully Paid</th>\n",
       "      <td>0.284231</td>\n",
       "      <td>0.000229</td>\n",
       "      <td>0.006106</td>\n",
       "      <td>0.060907</td>\n",
       "      <td>0.367883</td>\n",
       "    </tr>\n",
       "    <tr>\n",
       "      <th>In Grace Period</th>\n",
       "      <td>0.001603</td>\n",
       "      <td>0.000000</td>\n",
       "      <td>0.000000</td>\n",
       "      <td>0.000153</td>\n",
       "      <td>0.001450</td>\n",
       "    </tr>\n",
       "    <tr>\n",
       "      <th>Late (16-30 days)</th>\n",
       "      <td>0.000153</td>\n",
       "      <td>0.000000</td>\n",
       "      <td>0.000000</td>\n",
       "      <td>0.000076</td>\n",
       "      <td>0.000534</td>\n",
       "    </tr>\n",
       "    <tr>\n",
       "      <th>Late (31-120 days)</th>\n",
       "      <td>0.003129</td>\n",
       "      <td>0.000000</td>\n",
       "      <td>0.000000</td>\n",
       "      <td>0.000305</td>\n",
       "      <td>0.003816</td>\n",
       "    </tr>\n",
       "  </tbody>\n",
       "</table>\n",
       "</div>"
      ],
      "text/plain": [
       "home_ownership      MORTGAGE      NONE     OTHER       OWN      RENT\n",
       "loan_status                                                         \n",
       "Charged Off         0.044802  0.000000  0.001298  0.008854  0.060830\n",
       "Current             0.069608  0.000000  0.000076  0.010380  0.073119\n",
       "Default             0.000076  0.000000  0.000000  0.000076  0.000305\n",
       "Fully Paid          0.284231  0.000229  0.006106  0.060907  0.367883\n",
       "In Grace Period     0.001603  0.000000  0.000000  0.000153  0.001450\n",
       "Late (16-30 days)   0.000153  0.000000  0.000000  0.000076  0.000534\n",
       "Late (31-120 days)  0.003129  0.000000  0.000000  0.000305  0.003816"
      ]
     },
     "execution_count": 316,
     "metadata": {},
     "output_type": "execute_result"
    }
   ],
   "source": [
    "pd.crosstab(final_dataset['loan_status'],final_dataset['home_ownership'])/final_dataset.shape[0]"
   ]
  },
  {
   "cell_type": "markdown",
   "id": "f2b99dda",
   "metadata": {},
   "source": [
    "# Exploratory Analysis Outcomes"
   ]
  },
  {
   "cell_type": "markdown",
   "id": "ea40b690",
   "metadata": {},
   "source": [
    "1. Cannot analyze interest rate as it is currently captured as string\n",
    "2. 72% of the borrowers on the P2P platform are repaying their loan completely, but\n",
    "3. Almost 60% of them are using the loan amount for Consolidation and repaying past debts... (that could be the reason that most of the loans on P2P are of short term (~90%))\n",
    "4. This debt consolidation reason observed on P2P platform could be related to housing loan aspects as 1/3rd of the borrowers are having housing mortgage. \n",
    "\n"
   ]
  },
  {
   "cell_type": "markdown",
   "id": "7b515602",
   "metadata": {},
   "source": [
    "Talking to business ppl\n",
    "* Let me check the data quality issues, by far this picture is coming up\n",
    "* EDA done, data quality aspects need to be worked around, data manipulation will help to get a better picture, and validate the model. later predictive modelling"
   ]
  },
  {
   "cell_type": "markdown",
   "id": "ebe2816f",
   "metadata": {},
   "source": [
    "# Data Manipulation | Feature Engineering"
   ]
  },
  {
   "cell_type": "markdown",
   "id": "cc206bd5",
   "metadata": {},
   "source": [
    "1. Fix interest rate as a feature"
   ]
  },
  {
   "cell_type": "code",
   "execution_count": 317,
   "id": "1fcf496d",
   "metadata": {},
   "outputs": [],
   "source": [
    "final_dataset['int_rate']=final_dataset['int_rate'].str.replace('%','').astype('float')"
   ]
  },
  {
   "cell_type": "code",
   "execution_count": 318,
   "id": "72ee9833",
   "metadata": {},
   "outputs": [
    {
     "data": {
      "text/plain": [
       "0    11.89\n",
       "1    10.71\n",
       "2    13.11\n",
       "3    13.57\n",
       "4    19.05\n",
       "Name: int_rate, dtype: float64"
      ]
     },
     "execution_count": 318,
     "metadata": {},
     "output_type": "execute_result"
    }
   ],
   "source": [
    "final_dataset.int_rate.head()"
   ]
  },
  {
   "cell_type": "code",
   "execution_count": 319,
   "id": "aaaa674f",
   "metadata": {},
   "outputs": [
    {
     "data": {
      "text/plain": [
       "term\n",
       "36months    11.720473\n",
       "60months    13.947525\n",
       "Name: int_rate, dtype: float64"
      ]
     },
     "execution_count": 319,
     "metadata": {},
     "output_type": "execute_result"
    }
   ],
   "source": [
    "final_dataset.groupby('term')['int_rate'].mean()"
   ]
  },
  {
   "cell_type": "code",
   "execution_count": 320,
   "id": "aa01792e",
   "metadata": {},
   "outputs": [
    {
     "name": "stderr",
     "output_type": "stream",
     "text": [
      "/Users/macmojave/opt/anaconda3/lib/python3.9/site-packages/seaborn/_decorators.py:36: FutureWarning: Pass the following variable as a keyword arg: x. From version 0.12, the only valid positional argument will be `data`, and passing other arguments without an explicit keyword will result in an error or misinterpretation.\n",
      "  warnings.warn(\n"
     ]
    },
    {
     "data": {
      "text/plain": [
       "Text(0.5, 1.0, 'Distribution of the interest rate')"
      ]
     },
     "execution_count": 320,
     "metadata": {},
     "output_type": "execute_result"
    },
    {
     "data": {
      "image/png": "[encoded data removed]",
      "text/plain": [
       "<Figure size 432x288 with 1 Axes>"
      ]
     },
     "metadata": {
      "needs_background": "light"
     },
     "output_type": "display_data"
    }
   ],
   "source": [
    "sb.boxplot(final_dataset['int_rate'])\n",
    "plt.title(\"Distribution of the interest rate\")"
   ]
  },
  {
   "cell_type": "code",
   "execution_count": 321,
   "id": "86e44116",
   "metadata": {},
   "outputs": [
    {
     "data": {
      "text/plain": [
       "43"
      ]
     },
     "execution_count": 321,
     "metadata": {},
     "output_type": "execute_result"
    }
   ],
   "source": [
    "final_dataset[final_dataset.int_rate > 20].shape[0]"
   ]
  },
  {
   "cell_type": "code",
   "execution_count": 322,
   "id": "34a91617",
   "metadata": {},
   "outputs": [
    {
     "data": {
      "text/plain": [
       "13102"
      ]
     },
     "execution_count": 322,
     "metadata": {},
     "output_type": "execute_result"
    }
   ],
   "source": [
    "final_dataset.shape[0]"
   ]
  },
  {
   "cell_type": "markdown",
   "id": "944290eb",
   "metadata": {},
   "source": [
    "2.Finding outlier:\n",
    "    2. a) Using boxplot\n",
    "    2. b) Using IQR"
   ]
  },
  {
   "cell_type": "code",
   "execution_count": 323,
   "id": "3595f6e2",
   "metadata": {},
   "outputs": [],
   "source": [
    "def find_iqr(x):\n",
    "    return np.subtract(*np.percentile(x,[75,25]))"
   ]
  },
  {
   "cell_type": "code",
   "execution_count": 324,
   "id": "9d555d64",
   "metadata": {},
   "outputs": [],
   "source": [
    "#Calculate the IQR Inter Quartile Range\n",
    "q75, q25 = np.percentile(final_dataset['int_rate'], [75,25])\n",
    "iqr = q75-q25"
   ]
  },
  {
   "cell_type": "code",
   "execution_count": 325,
   "id": "befe4d22",
   "metadata": {},
   "outputs": [
    {
     "data": {
      "text/plain": [
       "4.039999999999999"
      ]
     },
     "execution_count": 325,
     "metadata": {},
     "output_type": "execute_result"
    }
   ],
   "source": [
    "iqr"
   ]
  },
  {
   "cell_type": "code",
   "execution_count": 326,
   "id": "b6157134",
   "metadata": {},
   "outputs": [
    {
     "data": {
      "text/plain": [
       "int_rate        4.04\n",
       "loan_amnt    9375.00\n",
       "dtype: float64"
      ]
     },
     "execution_count": 326,
     "metadata": {},
     "output_type": "execute_result"
    }
   ],
   "source": [
    "final_dataset[['int_rate','loan_amnt']].apply(find_iqr)"
   ]
  },
  {
   "cell_type": "markdown",
   "id": "5b58c64b",
   "metadata": {},
   "source": [
    "3. Capping outliers on both the sides of distribution"
   ]
  },
  {
   "cell_type": "code",
   "execution_count": 327,
   "id": "32e6c9e4",
   "metadata": {},
   "outputs": [],
   "source": [
    "#Code for capping\n",
    "\n",
    "#for int_rate in final_dataset.columns:\n",
    "    #percentile = final_dataset['int_rate'].quantile([0.01,0.99]).values\n",
    "    #final_dataset['int_rate'][final_dataset['int_rate']<= percentile[0]]=percentile[0]\n",
    "    #final_dataset['int_rate'][final_dataset['int_rate']>= percentile[1]]=percentile[1]"
   ]
  },
  {
   "cell_type": "code",
   "execution_count": 328,
   "id": "494c984f",
   "metadata": {},
   "outputs": [],
   "source": [
    "#Code for capping\n",
    "\n",
    "#for col in final_dataset.columns:\n",
    "    #percentile = final_dataset['col'].quantile([0.01,0.99]).values\n",
    "    #final_dataset['col'][final_dataset['col']<= percentile[0]]=percentile[0]\n",
    "    #final_dataset['col'][final_dataset['col']>= percentile[1]]=percentile[1]"
   ]
  },
  {
   "cell_type": "code",
   "execution_count": 329,
   "id": "023b768a",
   "metadata": {},
   "outputs": [
    {
     "data": {
      "text/plain": [
       "0     85000.0\n",
       "1     65000.0\n",
       "2     54000.0\n",
       "3     32000.0\n",
       "4     58000.0\n",
       "5     85000.0\n",
       "6     80800.0\n",
       "7    148000.0\n",
       "8     45000.0\n",
       "9     54000.0\n",
       "Name: annual_inc, dtype: float64"
      ]
     },
     "execution_count": 329,
     "metadata": {},
     "output_type": "execute_result"
    }
   ],
   "source": [
    "final_dataset.annual_inc.head(10)"
   ]
  },
  {
   "cell_type": "code",
   "execution_count": 330,
   "id": "2d6d691c",
   "metadata": {},
   "outputs": [
    {
     "name": "stderr",
     "output_type": "stream",
     "text": [
      "/Users/macmojave/opt/anaconda3/lib/python3.9/site-packages/seaborn/_decorators.py:36: FutureWarning: Pass the following variable as a keyword arg: x. From version 0.12, the only valid positional argument will be `data`, and passing other arguments without an explicit keyword will result in an error or misinterpretation.\n",
      "  warnings.warn(\n"
     ]
    },
    {
     "data": {
      "text/plain": [
       "Text(0.5, 1.0, 'Distribution of the Annual Income')"
      ]
     },
     "execution_count": 330,
     "metadata": {},
     "output_type": "execute_result"
    },
    {
     "data": {
      "image/png": "[encoded data removed]",
      "text/plain": [
       "<Figure size 432x288 with 1 Axes>"
      ]
     },
     "metadata": {
      "needs_background": "light"
     },
     "output_type": "display_data"
    }
   ],
   "source": [
    "sb.boxplot(final_dataset['annual_inc'])\n",
    "plt.title(\"Distribution of the Annual Income\")"
   ]
  },
  {
   "cell_type": "markdown",
   "id": "cb151962",
   "metadata": {},
   "source": [
    "4. Common generic continuous features converted to categorical features"
   ]
  },
  {
   "cell_type": "code",
   "execution_count": 331,
   "id": "f5ed83c8",
   "metadata": {},
   "outputs": [],
   "source": [
    "#Create a list of conditions\n",
    "condition = [\n",
    "    (final_dataset['annual_inc'] <= 10000),\n",
    "    (final_dataset['annual_inc'] > 10000) & (final_dataset['annual_inc'] <= 40000),\n",
    "    (final_dataset['annual_inc'] > 40000) & (final_dataset['annual_inc'] <= 60000),\n",
    "    (final_dataset['annual_inc'] > 60000) & (final_dataset['annual_inc'] <= 100000),\n",
    "    (final_dataset['annual_inc'] > 100000)\n",
    "]\n",
    "\n",
    "#create a list of categorical values related to these conditions\n",
    "values = ['tier1','tier2','tier3','tier4','tier5']\n",
    "\n",
    "#create a new column\n",
    "final_dataset['income_bucket'] = np.select(condition,values)"
   ]
  },
  {
   "cell_type": "code",
   "execution_count": 332,
   "id": "1819e63a",
   "metadata": {},
   "outputs": [
    {
     "data": {
      "text/plain": [
       "0     tier4\n",
       "1     tier4\n",
       "2     tier3\n",
       "3     tier2\n",
       "4     tier3\n",
       "5     tier4\n",
       "6     tier4\n",
       "7     tier5\n",
       "8     tier3\n",
       "9     tier3\n",
       "10    tier3\n",
       "11    tier4\n",
       "12    tier2\n",
       "13    tier2\n",
       "14    tier5\n",
       "15    tier3\n",
       "16    tier4\n",
       "17    tier2\n",
       "18    tier3\n",
       "19    tier2\n",
       "Name: income_bucket, dtype: object"
      ]
     },
     "execution_count": 332,
     "metadata": {},
     "output_type": "execute_result"
    }
   ],
   "source": [
    "final_dataset.income_bucket.head(20)"
   ]
  },
  {
   "cell_type": "code",
   "execution_count": 333,
   "id": "930ebee9",
   "metadata": {},
   "outputs": [
    {
     "data": {
      "text/plain": [
       "tier4    3939\n",
       "tier3    3851\n",
       "tier2    3496\n",
       "tier5    1762\n",
       "tier1      54\n",
       "Name: income_bucket, dtype: int64"
      ]
     },
     "execution_count": 333,
     "metadata": {},
     "output_type": "execute_result"
    }
   ],
   "source": [
    "final_dataset['income_bucket'].value_counts()"
   ]
  },
  {
   "cell_type": "code",
   "execution_count": 334,
   "id": "959ef747",
   "metadata": {},
   "outputs": [],
   "source": [
    "#buckets very unevenly divided, hence reshuffling\n",
    "#Create a list of conditions\n",
    "condition = [\n",
    "    (final_dataset['annual_inc'] <= 40000),\n",
    "    (final_dataset['annual_inc'] > 40000) & (final_dataset['annual_inc'] <= 60000),\n",
    "    (final_dataset['annual_inc'] > 60000) & (final_dataset['annual_inc'] <= 100000),\n",
    "    (final_dataset['annual_inc'] > 100000)\n",
    "]\n",
    "\n",
    "#create a list of categorical values related to these conditions\n",
    "values = ['tier1','tier2','tier3','tier4']\n",
    "\n",
    "#create a new column\n",
    "final_dataset['income_bucket'] = np.select(condition,values)"
   ]
  },
  {
   "cell_type": "code",
   "execution_count": 335,
   "id": "5669d514",
   "metadata": {},
   "outputs": [
    {
     "data": {
      "text/plain": [
       "tier3    3939\n",
       "tier2    3851\n",
       "tier1    3550\n",
       "tier4    1762\n",
       "Name: income_bucket, dtype: int64"
      ]
     },
     "execution_count": 335,
     "metadata": {},
     "output_type": "execute_result"
    }
   ],
   "source": [
    "final_dataset['income_bucket'].value_counts()"
   ]
  },
  {
   "cell_type": "markdown",
   "id": "0ed4b001",
   "metadata": {},
   "source": [
    "#around 50% population have ann income >50k, gives some confidence in lending\n"
   ]
  },
  {
   "cell_type": "code",
   "execution_count": 336,
   "id": "2a80002f",
   "metadata": {},
   "outputs": [
    {
     "data": {
      "text/plain": [
       "Index(['id', 'member_id', 'loan_amnt', 'funded_amnt', 'funded_amnt_inv',\n",
       "       'int_rate', 'installment', 'grade', 'sub_grade', 'is_inc_v', 'accept_d',\n",
       "       'issue_d', 'loan_status', 'term', 'emp_name', 'emp_length',\n",
       "       'home_ownership', 'annual_inc', 'desc', 'purpose', 'title', 'addr_city',\n",
       "       'addr_state', 'income_bucket'],\n",
       "      dtype='object')"
      ]
     },
     "execution_count": 336,
     "metadata": {},
     "output_type": "execute_result"
    }
   ],
   "source": [
    "final_dataset.columns"
   ]
  },
  {
   "cell_type": "markdown",
   "id": "3f219319",
   "metadata": {},
   "source": [
    "5. Filter needed columns for ML models"
   ]
  },
  {
   "cell_type": "code",
   "execution_count": 337,
   "id": "6f07b6dd",
   "metadata": {},
   "outputs": [],
   "source": [
    "MRD = final_dataset.filter(['loan_amnt', 'funded_amnt', 'funded_amnt_inv','int_rate', 'installment', 'grade', 'sub_grade', 'is_inc_v', 'accept_d','loan_status', 'term', 'emp_length',\n",
    "       'home_ownership','income_bucket','purpose'], axis= 1)"
   ]
  },
  {
   "cell_type": "code",
   "execution_count": 338,
   "id": "93f7e2bd",
   "metadata": {},
   "outputs": [
    {
     "data": {
      "text/html": [
       "<div>\n",
       "<style scoped>\n",
       "    .dataframe tbody tr th:only-of-type {\n",
       "        vertical-align: middle;\n",
       "    }\n",
       "\n",
       "    .dataframe tbody tr th {\n",
       "        vertical-align: top;\n",
       "    }\n",
       "\n",
       "    .dataframe thead th {\n",
       "        text-align: right;\n",
       "    }\n",
       "</style>\n",
       "<table border=\"1\" class=\"dataframe\">\n",
       "  <thead>\n",
       "    <tr style=\"text-align: right;\">\n",
       "      <th></th>\n",
       "      <th>loan_amnt</th>\n",
       "      <th>funded_amnt</th>\n",
       "      <th>funded_amnt_inv</th>\n",
       "      <th>int_rate</th>\n",
       "      <th>installment</th>\n",
       "      <th>grade</th>\n",
       "      <th>sub_grade</th>\n",
       "      <th>is_inc_v</th>\n",
       "      <th>accept_d</th>\n",
       "      <th>loan_status</th>\n",
       "      <th>term</th>\n",
       "      <th>emp_length</th>\n",
       "      <th>home_ownership</th>\n",
       "      <th>income_bucket</th>\n",
       "      <th>purpose</th>\n",
       "    </tr>\n",
       "  </thead>\n",
       "  <tbody>\n",
       "    <tr>\n",
       "      <th>0</th>\n",
       "      <td>25000</td>\n",
       "      <td>25000</td>\n",
       "      <td>19419.94</td>\n",
       "      <td>11.89</td>\n",
       "      <td>829.10</td>\n",
       "      <td>B</td>\n",
       "      <td>B4</td>\n",
       "      <td>True</td>\n",
       "      <td>26-07-2009</td>\n",
       "      <td>Fully Paid</td>\n",
       "      <td>36months</td>\n",
       "      <td>&lt; 1 year</td>\n",
       "      <td>RENT</td>\n",
       "      <td>tier3</td>\n",
       "      <td>debt_consolidation</td>\n",
       "    </tr>\n",
       "    <tr>\n",
       "      <th>1</th>\n",
       "      <td>7000</td>\n",
       "      <td>7000</td>\n",
       "      <td>6549.40</td>\n",
       "      <td>10.71</td>\n",
       "      <td>228.22</td>\n",
       "      <td>B</td>\n",
       "      <td>B5</td>\n",
       "      <td>False</td>\n",
       "      <td>12-05-2008</td>\n",
       "      <td>Fully Paid</td>\n",
       "      <td>36months</td>\n",
       "      <td>&lt; 1 year</td>\n",
       "      <td>RENT</td>\n",
       "      <td>tier3</td>\n",
       "      <td>credit_card</td>\n",
       "    </tr>\n",
       "    <tr>\n",
       "      <th>2</th>\n",
       "      <td>1200</td>\n",
       "      <td>1200</td>\n",
       "      <td>1200.00</td>\n",
       "      <td>13.11</td>\n",
       "      <td>40.50</td>\n",
       "      <td>C</td>\n",
       "      <td>C2</td>\n",
       "      <td>False</td>\n",
       "      <td>11-03-2010</td>\n",
       "      <td>Fully Paid</td>\n",
       "      <td>36months</td>\n",
       "      <td>10+ years</td>\n",
       "      <td>OWN</td>\n",
       "      <td>tier2</td>\n",
       "      <td>debt_consolidation</td>\n",
       "    </tr>\n",
       "    <tr>\n",
       "      <th>3</th>\n",
       "      <td>10800</td>\n",
       "      <td>10800</td>\n",
       "      <td>10637.65</td>\n",
       "      <td>13.57</td>\n",
       "      <td>366.86</td>\n",
       "      <td>C</td>\n",
       "      <td>C3</td>\n",
       "      <td>False</td>\n",
       "      <td>04-11-2009</td>\n",
       "      <td>Fully Paid</td>\n",
       "      <td>36months</td>\n",
       "      <td>6 years</td>\n",
       "      <td>RENT</td>\n",
       "      <td>tier1</td>\n",
       "      <td>debt_consolidation</td>\n",
       "    </tr>\n",
       "    <tr>\n",
       "      <th>4</th>\n",
       "      <td>7200</td>\n",
       "      <td>7200</td>\n",
       "      <td>1800.00</td>\n",
       "      <td>19.05</td>\n",
       "      <td>264.11</td>\n",
       "      <td>D</td>\n",
       "      <td>D4</td>\n",
       "      <td>False</td>\n",
       "      <td>14-08-2012</td>\n",
       "      <td>Current</td>\n",
       "      <td>36months</td>\n",
       "      <td>9 years</td>\n",
       "      <td>RENT</td>\n",
       "      <td>tier2</td>\n",
       "      <td>debt_consolidation</td>\n",
       "    </tr>\n",
       "  </tbody>\n",
       "</table>\n",
       "</div>"
      ],
      "text/plain": [
       "   loan_amnt  funded_amnt  funded_amnt_inv  int_rate  installment grade  \\\n",
       "0      25000        25000         19419.94     11.89       829.10     B   \n",
       "1       7000         7000          6549.40     10.71       228.22     B   \n",
       "2       1200         1200          1200.00     13.11        40.50     C   \n",
       "3      10800        10800         10637.65     13.57       366.86     C   \n",
       "4       7200         7200          1800.00     19.05       264.11     D   \n",
       "\n",
       "  sub_grade  is_inc_v    accept_d loan_status      term emp_length  \\\n",
       "0        B4      True  26-07-2009  Fully Paid  36months   < 1 year   \n",
       "1        B5     False  12-05-2008  Fully Paid  36months   < 1 year   \n",
       "2        C2     False  11-03-2010  Fully Paid  36months  10+ years   \n",
       "3        C3     False  04-11-2009  Fully Paid  36months    6 years   \n",
       "4        D4     False  14-08-2012     Current  36months    9 years   \n",
       "\n",
       "  home_ownership income_bucket             purpose  \n",
       "0           RENT         tier3  debt_consolidation  \n",
       "1           RENT         tier3         credit_card  \n",
       "2            OWN         tier2  debt_consolidation  \n",
       "3           RENT         tier1  debt_consolidation  \n",
       "4           RENT         tier2  debt_consolidation  "
      ]
     },
     "execution_count": 338,
     "metadata": {},
     "output_type": "execute_result"
    }
   ],
   "source": [
    "MRD.head() "
   ]
  },
  {
   "cell_type": "code",
   "execution_count": 339,
   "id": "a55b11fc",
   "metadata": {},
   "outputs": [
    {
     "data": {
      "text/plain": [
       "0     Fully Paid\n",
       "1     Fully Paid\n",
       "2     Fully Paid\n",
       "3     Fully Paid\n",
       "4        Current\n",
       "5     Fully Paid\n",
       "6     Fully Paid\n",
       "7     Fully Paid\n",
       "8    Charged Off\n",
       "9     Fully Paid\n",
       "Name: loan_status, dtype: object"
      ]
     },
     "execution_count": 339,
     "metadata": {},
     "output_type": "execute_result"
    }
   ],
   "source": [
    "MRD.loan_status.head(10)"
   ]
  },
  {
   "cell_type": "markdown",
   "id": "bc40424f",
   "metadata": {},
   "source": [
    "# 6. Encode Features"
   ]
  },
  {
   "cell_type": "markdown",
   "id": "9b64aa4b",
   "metadata": {},
   "source": [
    "# 6a. Label Encoding"
   ]
  },
  {
   "cell_type": "code",
   "execution_count": 340,
   "id": "5b399c52",
   "metadata": {},
   "outputs": [
    {
     "name": "stdout",
     "output_type": "stream",
     "text": [
      "0    3\n",
      "1    3\n",
      "2    3\n",
      "3    3\n",
      "4    1\n",
      "Name: TV, dtype: int64\n"
     ]
    }
   ],
   "source": [
    "#Target variable\n",
    "from sklearn import preprocessing\n",
    "#object\n",
    "label_encoder = preprocessing.LabelEncoder()\n",
    "\n",
    "#Encode labels in the column loan_status(TV)\n",
    "MRD['TV'] = label_encoder.fit_transform(MRD['loan_status'])\n",
    "print(MRD.TV.head())"
   ]
  },
  {
   "cell_type": "code",
   "execution_count": 341,
   "id": "59cced6d",
   "metadata": {},
   "outputs": [
    {
     "data": {
      "text/html": [
       "<div>\n",
       "<style scoped>\n",
       "    .dataframe tbody tr th:only-of-type {\n",
       "        vertical-align: middle;\n",
       "    }\n",
       "\n",
       "    .dataframe tbody tr th {\n",
       "        vertical-align: top;\n",
       "    }\n",
       "\n",
       "    .dataframe thead th {\n",
       "        text-align: right;\n",
       "    }\n",
       "</style>\n",
       "<table border=\"1\" class=\"dataframe\">\n",
       "  <thead>\n",
       "    <tr style=\"text-align: right;\">\n",
       "      <th></th>\n",
       "      <th>loan_amnt</th>\n",
       "      <th>funded_amnt</th>\n",
       "      <th>funded_amnt_inv</th>\n",
       "      <th>int_rate</th>\n",
       "      <th>installment</th>\n",
       "      <th>grade</th>\n",
       "      <th>sub_grade</th>\n",
       "      <th>is_inc_v</th>\n",
       "      <th>accept_d</th>\n",
       "      <th>loan_status</th>\n",
       "      <th>term</th>\n",
       "      <th>emp_length</th>\n",
       "      <th>home_ownership</th>\n",
       "      <th>income_bucket</th>\n",
       "      <th>purpose</th>\n",
       "      <th>TV</th>\n",
       "    </tr>\n",
       "  </thead>\n",
       "  <tbody>\n",
       "    <tr>\n",
       "      <th>0</th>\n",
       "      <td>25000</td>\n",
       "      <td>25000</td>\n",
       "      <td>19419.94</td>\n",
       "      <td>11.89</td>\n",
       "      <td>829.10</td>\n",
       "      <td>B</td>\n",
       "      <td>B4</td>\n",
       "      <td>True</td>\n",
       "      <td>26-07-2009</td>\n",
       "      <td>Fully Paid</td>\n",
       "      <td>36months</td>\n",
       "      <td>&lt; 1 year</td>\n",
       "      <td>RENT</td>\n",
       "      <td>tier3</td>\n",
       "      <td>debt_consolidation</td>\n",
       "      <td>3</td>\n",
       "    </tr>\n",
       "    <tr>\n",
       "      <th>1</th>\n",
       "      <td>7000</td>\n",
       "      <td>7000</td>\n",
       "      <td>6549.40</td>\n",
       "      <td>10.71</td>\n",
       "      <td>228.22</td>\n",
       "      <td>B</td>\n",
       "      <td>B5</td>\n",
       "      <td>False</td>\n",
       "      <td>12-05-2008</td>\n",
       "      <td>Fully Paid</td>\n",
       "      <td>36months</td>\n",
       "      <td>&lt; 1 year</td>\n",
       "      <td>RENT</td>\n",
       "      <td>tier3</td>\n",
       "      <td>credit_card</td>\n",
       "      <td>3</td>\n",
       "    </tr>\n",
       "    <tr>\n",
       "      <th>2</th>\n",
       "      <td>1200</td>\n",
       "      <td>1200</td>\n",
       "      <td>1200.00</td>\n",
       "      <td>13.11</td>\n",
       "      <td>40.50</td>\n",
       "      <td>C</td>\n",
       "      <td>C2</td>\n",
       "      <td>False</td>\n",
       "      <td>11-03-2010</td>\n",
       "      <td>Fully Paid</td>\n",
       "      <td>36months</td>\n",
       "      <td>10+ years</td>\n",
       "      <td>OWN</td>\n",
       "      <td>tier2</td>\n",
       "      <td>debt_consolidation</td>\n",
       "      <td>3</td>\n",
       "    </tr>\n",
       "    <tr>\n",
       "      <th>3</th>\n",
       "      <td>10800</td>\n",
       "      <td>10800</td>\n",
       "      <td>10637.65</td>\n",
       "      <td>13.57</td>\n",
       "      <td>366.86</td>\n",
       "      <td>C</td>\n",
       "      <td>C3</td>\n",
       "      <td>False</td>\n",
       "      <td>04-11-2009</td>\n",
       "      <td>Fully Paid</td>\n",
       "      <td>36months</td>\n",
       "      <td>6 years</td>\n",
       "      <td>RENT</td>\n",
       "      <td>tier1</td>\n",
       "      <td>debt_consolidation</td>\n",
       "      <td>3</td>\n",
       "    </tr>\n",
       "    <tr>\n",
       "      <th>4</th>\n",
       "      <td>7200</td>\n",
       "      <td>7200</td>\n",
       "      <td>1800.00</td>\n",
       "      <td>19.05</td>\n",
       "      <td>264.11</td>\n",
       "      <td>D</td>\n",
       "      <td>D4</td>\n",
       "      <td>False</td>\n",
       "      <td>14-08-2012</td>\n",
       "      <td>Current</td>\n",
       "      <td>36months</td>\n",
       "      <td>9 years</td>\n",
       "      <td>RENT</td>\n",
       "      <td>tier2</td>\n",
       "      <td>debt_consolidation</td>\n",
       "      <td>1</td>\n",
       "    </tr>\n",
       "  </tbody>\n",
       "</table>\n",
       "</div>"
      ],
      "text/plain": [
       "   loan_amnt  funded_amnt  funded_amnt_inv  int_rate  installment grade  \\\n",
       "0      25000        25000         19419.94     11.89       829.10     B   \n",
       "1       7000         7000          6549.40     10.71       228.22     B   \n",
       "2       1200         1200          1200.00     13.11        40.50     C   \n",
       "3      10800        10800         10637.65     13.57       366.86     C   \n",
       "4       7200         7200          1800.00     19.05       264.11     D   \n",
       "\n",
       "  sub_grade  is_inc_v    accept_d loan_status      term emp_length  \\\n",
       "0        B4      True  26-07-2009  Fully Paid  36months   < 1 year   \n",
       "1        B5     False  12-05-2008  Fully Paid  36months   < 1 year   \n",
       "2        C2     False  11-03-2010  Fully Paid  36months  10+ years   \n",
       "3        C3     False  04-11-2009  Fully Paid  36months    6 years   \n",
       "4        D4     False  14-08-2012     Current  36months    9 years   \n",
       "\n",
       "  home_ownership income_bucket             purpose  TV  \n",
       "0           RENT         tier3  debt_consolidation   3  \n",
       "1           RENT         tier3         credit_card   3  \n",
       "2            OWN         tier2  debt_consolidation   3  \n",
       "3           RENT         tier1  debt_consolidation   3  \n",
       "4           RENT         tier2  debt_consolidation   1  "
      ]
     },
     "execution_count": 341,
     "metadata": {},
     "output_type": "execute_result"
    }
   ],
   "source": [
    "MRD.head()"
   ]
  },
  {
   "cell_type": "code",
   "execution_count": 342,
   "id": "b51f2442",
   "metadata": {},
   "outputs": [],
   "source": [
    "del MRD['loan_status']"
   ]
  },
  {
   "cell_type": "code",
   "execution_count": 343,
   "id": "931aba17",
   "metadata": {},
   "outputs": [],
   "source": [
    "#OR\n",
    "#MRD = MRD.drop(['loan_status'], axis=1, inplace= True)"
   ]
  },
  {
   "cell_type": "code",
   "execution_count": 349,
   "id": "c4407b7e",
   "metadata": {},
   "outputs": [
    {
     "data": {
      "text/html": [
       "<div>\n",
       "<style scoped>\n",
       "    .dataframe tbody tr th:only-of-type {\n",
       "        vertical-align: middle;\n",
       "    }\n",
       "\n",
       "    .dataframe tbody tr th {\n",
       "        vertical-align: top;\n",
       "    }\n",
       "\n",
       "    .dataframe thead th {\n",
       "        text-align: right;\n",
       "    }\n",
       "</style>\n",
       "<table border=\"1\" class=\"dataframe\">\n",
       "  <thead>\n",
       "    <tr style=\"text-align: right;\">\n",
       "      <th></th>\n",
       "      <th>loan_amnt</th>\n",
       "      <th>funded_amnt</th>\n",
       "      <th>funded_amnt_inv</th>\n",
       "      <th>int_rate</th>\n",
       "      <th>installment</th>\n",
       "      <th>grade</th>\n",
       "      <th>sub_grade</th>\n",
       "      <th>is_inc_v</th>\n",
       "      <th>accept_d</th>\n",
       "      <th>term</th>\n",
       "      <th>emp_length</th>\n",
       "      <th>home_ownership</th>\n",
       "      <th>income_bucket</th>\n",
       "      <th>purpose</th>\n",
       "      <th>TV</th>\n",
       "    </tr>\n",
       "  </thead>\n",
       "  <tbody>\n",
       "    <tr>\n",
       "      <th>0</th>\n",
       "      <td>25000</td>\n",
       "      <td>25000</td>\n",
       "      <td>19419.94</td>\n",
       "      <td>11.89</td>\n",
       "      <td>829.10</td>\n",
       "      <td>B</td>\n",
       "      <td>B4</td>\n",
       "      <td>True</td>\n",
       "      <td>26-07-2009</td>\n",
       "      <td>36months</td>\n",
       "      <td>&lt; 1 year</td>\n",
       "      <td>RENT</td>\n",
       "      <td>tier3</td>\n",
       "      <td>debt_consolidation</td>\n",
       "      <td>3</td>\n",
       "    </tr>\n",
       "    <tr>\n",
       "      <th>1</th>\n",
       "      <td>7000</td>\n",
       "      <td>7000</td>\n",
       "      <td>6549.40</td>\n",
       "      <td>10.71</td>\n",
       "      <td>228.22</td>\n",
       "      <td>B</td>\n",
       "      <td>B5</td>\n",
       "      <td>False</td>\n",
       "      <td>12-05-2008</td>\n",
       "      <td>36months</td>\n",
       "      <td>&lt; 1 year</td>\n",
       "      <td>RENT</td>\n",
       "      <td>tier3</td>\n",
       "      <td>credit_card</td>\n",
       "      <td>3</td>\n",
       "    </tr>\n",
       "    <tr>\n",
       "      <th>2</th>\n",
       "      <td>1200</td>\n",
       "      <td>1200</td>\n",
       "      <td>1200.00</td>\n",
       "      <td>13.11</td>\n",
       "      <td>40.50</td>\n",
       "      <td>C</td>\n",
       "      <td>C2</td>\n",
       "      <td>False</td>\n",
       "      <td>11-03-2010</td>\n",
       "      <td>36months</td>\n",
       "      <td>10+ years</td>\n",
       "      <td>OWN</td>\n",
       "      <td>tier2</td>\n",
       "      <td>debt_consolidation</td>\n",
       "      <td>3</td>\n",
       "    </tr>\n",
       "    <tr>\n",
       "      <th>3</th>\n",
       "      <td>10800</td>\n",
       "      <td>10800</td>\n",
       "      <td>10637.65</td>\n",
       "      <td>13.57</td>\n",
       "      <td>366.86</td>\n",
       "      <td>C</td>\n",
       "      <td>C3</td>\n",
       "      <td>False</td>\n",
       "      <td>04-11-2009</td>\n",
       "      <td>36months</td>\n",
       "      <td>6 years</td>\n",
       "      <td>RENT</td>\n",
       "      <td>tier1</td>\n",
       "      <td>debt_consolidation</td>\n",
       "      <td>3</td>\n",
       "    </tr>\n",
       "    <tr>\n",
       "      <th>4</th>\n",
       "      <td>7200</td>\n",
       "      <td>7200</td>\n",
       "      <td>1800.00</td>\n",
       "      <td>19.05</td>\n",
       "      <td>264.11</td>\n",
       "      <td>D</td>\n",
       "      <td>D4</td>\n",
       "      <td>False</td>\n",
       "      <td>14-08-2012</td>\n",
       "      <td>36months</td>\n",
       "      <td>9 years</td>\n",
       "      <td>RENT</td>\n",
       "      <td>tier2</td>\n",
       "      <td>debt_consolidation</td>\n",
       "      <td>1</td>\n",
       "    </tr>\n",
       "  </tbody>\n",
       "</table>\n",
       "</div>"
      ],
      "text/plain": [
       "   loan_amnt  funded_amnt  funded_amnt_inv  int_rate  installment grade  \\\n",
       "0      25000        25000         19419.94     11.89       829.10     B   \n",
       "1       7000         7000          6549.40     10.71       228.22     B   \n",
       "2       1200         1200          1200.00     13.11        40.50     C   \n",
       "3      10800        10800         10637.65     13.57       366.86     C   \n",
       "4       7200         7200          1800.00     19.05       264.11     D   \n",
       "\n",
       "  sub_grade  is_inc_v    accept_d      term emp_length home_ownership  \\\n",
       "0        B4      True  26-07-2009  36months   < 1 year           RENT   \n",
       "1        B5     False  12-05-2008  36months   < 1 year           RENT   \n",
       "2        C2     False  11-03-2010  36months  10+ years            OWN   \n",
       "3        C3     False  04-11-2009  36months    6 years           RENT   \n",
       "4        D4     False  14-08-2012  36months    9 years           RENT   \n",
       "\n",
       "  income_bucket             purpose  TV  \n",
       "0         tier3  debt_consolidation   3  \n",
       "1         tier3         credit_card   3  \n",
       "2         tier2  debt_consolidation   3  \n",
       "3         tier1  debt_consolidation   3  \n",
       "4         tier2  debt_consolidation   1  "
      ]
     },
     "execution_count": 349,
     "metadata": {},
     "output_type": "execute_result"
    }
   ],
   "source": [
    "MRD.head()"
   ]
  },
  {
   "cell_type": "markdown",
   "id": "6d3e0669",
   "metadata": {},
   "source": [
    "# 6b. One-hot encoding"
   ]
  },
  {
   "cell_type": "code",
   "execution_count": 347,
   "id": "5dd05954",
   "metadata": {},
   "outputs": [],
   "source": [
    "#Feature Variables (Independent variables)\n",
    "\n",
    "MRD_1= pd.get_dummies(MRD, columns= ['income_bucket'])"
   ]
  },
  {
   "cell_type": "code",
   "execution_count": 350,
   "id": "8affec74",
   "metadata": {},
   "outputs": [
    {
     "data": {
      "text/html": [
       "<div>\n",
       "<style scoped>\n",
       "    .dataframe tbody tr th:only-of-type {\n",
       "        vertical-align: middle;\n",
       "    }\n",
       "\n",
       "    .dataframe tbody tr th {\n",
       "        vertical-align: top;\n",
       "    }\n",
       "\n",
       "    .dataframe thead th {\n",
       "        text-align: right;\n",
       "    }\n",
       "</style>\n",
       "<table border=\"1\" class=\"dataframe\">\n",
       "  <thead>\n",
       "    <tr style=\"text-align: right;\">\n",
       "      <th></th>\n",
       "      <th>loan_amnt</th>\n",
       "      <th>funded_amnt</th>\n",
       "      <th>funded_amnt_inv</th>\n",
       "      <th>int_rate</th>\n",
       "      <th>installment</th>\n",
       "      <th>grade</th>\n",
       "      <th>sub_grade</th>\n",
       "      <th>is_inc_v</th>\n",
       "      <th>accept_d</th>\n",
       "      <th>term</th>\n",
       "      <th>emp_length</th>\n",
       "      <th>home_ownership</th>\n",
       "      <th>purpose</th>\n",
       "      <th>TV</th>\n",
       "      <th>income_bucket_tier1</th>\n",
       "      <th>income_bucket_tier2</th>\n",
       "      <th>income_bucket_tier3</th>\n",
       "      <th>income_bucket_tier4</th>\n",
       "    </tr>\n",
       "  </thead>\n",
       "  <tbody>\n",
       "    <tr>\n",
       "      <th>0</th>\n",
       "      <td>25000</td>\n",
       "      <td>25000</td>\n",
       "      <td>19419.94</td>\n",
       "      <td>11.89</td>\n",
       "      <td>829.10</td>\n",
       "      <td>B</td>\n",
       "      <td>B4</td>\n",
       "      <td>True</td>\n",
       "      <td>26-07-2009</td>\n",
       "      <td>36months</td>\n",
       "      <td>&lt; 1 year</td>\n",
       "      <td>RENT</td>\n",
       "      <td>debt_consolidation</td>\n",
       "      <td>3</td>\n",
       "      <td>0</td>\n",
       "      <td>0</td>\n",
       "      <td>1</td>\n",
       "      <td>0</td>\n",
       "    </tr>\n",
       "    <tr>\n",
       "      <th>1</th>\n",
       "      <td>7000</td>\n",
       "      <td>7000</td>\n",
       "      <td>6549.40</td>\n",
       "      <td>10.71</td>\n",
       "      <td>228.22</td>\n",
       "      <td>B</td>\n",
       "      <td>B5</td>\n",
       "      <td>False</td>\n",
       "      <td>12-05-2008</td>\n",
       "      <td>36months</td>\n",
       "      <td>&lt; 1 year</td>\n",
       "      <td>RENT</td>\n",
       "      <td>credit_card</td>\n",
       "      <td>3</td>\n",
       "      <td>0</td>\n",
       "      <td>0</td>\n",
       "      <td>1</td>\n",
       "      <td>0</td>\n",
       "    </tr>\n",
       "    <tr>\n",
       "      <th>2</th>\n",
       "      <td>1200</td>\n",
       "      <td>1200</td>\n",
       "      <td>1200.00</td>\n",
       "      <td>13.11</td>\n",
       "      <td>40.50</td>\n",
       "      <td>C</td>\n",
       "      <td>C2</td>\n",
       "      <td>False</td>\n",
       "      <td>11-03-2010</td>\n",
       "      <td>36months</td>\n",
       "      <td>10+ years</td>\n",
       "      <td>OWN</td>\n",
       "      <td>debt_consolidation</td>\n",
       "      <td>3</td>\n",
       "      <td>0</td>\n",
       "      <td>1</td>\n",
       "      <td>0</td>\n",
       "      <td>0</td>\n",
       "    </tr>\n",
       "    <tr>\n",
       "      <th>3</th>\n",
       "      <td>10800</td>\n",
       "      <td>10800</td>\n",
       "      <td>10637.65</td>\n",
       "      <td>13.57</td>\n",
       "      <td>366.86</td>\n",
       "      <td>C</td>\n",
       "      <td>C3</td>\n",
       "      <td>False</td>\n",
       "      <td>04-11-2009</td>\n",
       "      <td>36months</td>\n",
       "      <td>6 years</td>\n",
       "      <td>RENT</td>\n",
       "      <td>debt_consolidation</td>\n",
       "      <td>3</td>\n",
       "      <td>1</td>\n",
       "      <td>0</td>\n",
       "      <td>0</td>\n",
       "      <td>0</td>\n",
       "    </tr>\n",
       "    <tr>\n",
       "      <th>4</th>\n",
       "      <td>7200</td>\n",
       "      <td>7200</td>\n",
       "      <td>1800.00</td>\n",
       "      <td>19.05</td>\n",
       "      <td>264.11</td>\n",
       "      <td>D</td>\n",
       "      <td>D4</td>\n",
       "      <td>False</td>\n",
       "      <td>14-08-2012</td>\n",
       "      <td>36months</td>\n",
       "      <td>9 years</td>\n",
       "      <td>RENT</td>\n",
       "      <td>debt_consolidation</td>\n",
       "      <td>1</td>\n",
       "      <td>0</td>\n",
       "      <td>1</td>\n",
       "      <td>0</td>\n",
       "      <td>0</td>\n",
       "    </tr>\n",
       "  </tbody>\n",
       "</table>\n",
       "</div>"
      ],
      "text/plain": [
       "   loan_amnt  funded_amnt  funded_amnt_inv  int_rate  installment grade  \\\n",
       "0      25000        25000         19419.94     11.89       829.10     B   \n",
       "1       7000         7000          6549.40     10.71       228.22     B   \n",
       "2       1200         1200          1200.00     13.11        40.50     C   \n",
       "3      10800        10800         10637.65     13.57       366.86     C   \n",
       "4       7200         7200          1800.00     19.05       264.11     D   \n",
       "\n",
       "  sub_grade  is_inc_v    accept_d      term emp_length home_ownership  \\\n",
       "0        B4      True  26-07-2009  36months   < 1 year           RENT   \n",
       "1        B5     False  12-05-2008  36months   < 1 year           RENT   \n",
       "2        C2     False  11-03-2010  36months  10+ years            OWN   \n",
       "3        C3     False  04-11-2009  36months    6 years           RENT   \n",
       "4        D4     False  14-08-2012  36months    9 years           RENT   \n",
       "\n",
       "              purpose  TV  income_bucket_tier1  income_bucket_tier2  \\\n",
       "0  debt_consolidation   3                    0                    0   \n",
       "1         credit_card   3                    0                    0   \n",
       "2  debt_consolidation   3                    0                    1   \n",
       "3  debt_consolidation   3                    1                    0   \n",
       "4  debt_consolidation   1                    0                    1   \n",
       "\n",
       "   income_bucket_tier3  income_bucket_tier4  \n",
       "0                    1                    0  \n",
       "1                    1                    0  \n",
       "2                    0                    0  \n",
       "3                    0                    0  \n",
       "4                    0                    0  "
      ]
     },
     "execution_count": 350,
     "metadata": {},
     "output_type": "execute_result"
    }
   ],
   "source": [
    "MRD_1.head()"
   ]
  },
  {
   "cell_type": "code",
   "execution_count": 351,
   "id": "507fca56",
   "metadata": {},
   "outputs": [
    {
     "name": "stdout",
     "output_type": "stream",
     "text": [
      "0    3\n",
      "1    3\n",
      "2    3\n",
      "3    3\n",
      "4    1\n",
      "Name: TV, dtype: int64\n"
     ]
    }
   ],
   "source": [
    "#Feature Variable\n",
    "from sklearn import preprocessing\n",
    "#object\n",
    "label_encoder = preprocessing. LabelEncoder()\n",
    "#Encode labels in the column loan_status(TV)\n",
    "MRD_1['purpose_encoded'] = label_encoder.fit_transform(MRD_1['purpose'])\n",
    "print(MRD.TV.head())"
   ]
  }
 ],
 "metadata": {
  "kernelspec": {
   "display_name": "Python 3 (ipykernel)",
   "language": "python",
   "name": "python3"
  },
  "language_info": {
   "codemirror_mode": {
    "name": "ipython",
    "version": 3
   },
   "file_extension": ".py",
   "mimetype": "text/x-python",
   "name": "python",
   "nbconvert_exporter": "python",
   "pygments_lexer": "ipython3",
   "version": "3.9.13"
  }
 },
 "nbformat": 4,
 "nbformat_minor": 5
}
